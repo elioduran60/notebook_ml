{
 "cells": [
  {
   "attachments": {},
   "cell_type": "markdown",
   "metadata": {},
   "source": []
  },
  {
   "attachments": {},
   "cell_type": "markdown",
   "metadata": {},
   "source": [
    "# <span style=\"color:green\">       _________ ***PROYECTO FINAL:***\n",
    "\n",
    "\n",
    "##  <span style=\"color:green\"> ***ANIME 1: ESTIMACION DE RATINGS EN ANIMES.***\n",
    "\n",
    "\n",
    "### Carrera: Data Science\n",
    "### Academía: DesafioLatam https://desafiolatam.com/\n",
    "### Lugar: Santiago de Chile.\n",
    "### Generación: G56\n",
    "### Fecha:  29/06/2023"
   ]
  },
  {
   "attachments": {},
   "cell_type": "markdown",
   "metadata": {},
   "source": [
    "##  <span style=\"color:green\"> ***Descripción general:***\n",
    "###   En este Proyecto trabajamos con datos de la plataforma web dedicada a la distribución de información sobre valoraciones de usuarios para series y películas de Anime está enfrentando un problema. Lamentablemente, un porcentaje de la muestra no tiene valoración, por lo tanto, se desea crear un sistema que ayude a estimar el puntaje que una serie/película debería tener dadas sus características. Es importante destacar que dicha herramienta o sistema será el principal componente de una mejora futura que podría ser comercializada. \n",
    "\n",
    "###    Para lograr lo planteado, se trabajará en cinco (5) Secciones que a continuación se enumerán (mismo orden del desarrollo):\n",
    "\n",
    "####    1.- Resumen.\n",
    "####    2.- Aspectos Computacionales.\n",
    "####    3.- Ingenieria de Datos.          ...    (Ojo: podría ser \"Ingenieria de Datos/Analisis Exploratorios\")\n",
    "####    4.- Generar matrices: \"X\" e  \"y\"  ...      (Ojo: podría ser \"Feature Engineering\") .\n",
    "####    5.- Modelos a utilizar            ...   (Ojo: podría ser Modelación )\n"
   ]
  },
  {
   "attachments": {},
   "cell_type": "markdown",
   "metadata": {},
   "source": [
    "."
   ]
  },
  {
   "attachments": {},
   "cell_type": "markdown",
   "metadata": {},
   "source": [
    "##  <span style=\"color:green\"> ***1.- Resumen***"
   ]
  },
  {
   "attachments": {},
   "cell_type": "markdown",
   "metadata": {},
   "source": [
    "### **Requerimiento general**: Crear un sistema que ayude a estimar el puntaje que una serie/película debería tener dadas sus características.\n",
    "\n",
    "***Vector Objetivo***: Variable 'rating'.\n",
    "\n",
    "***Data set usado en el modelo***: df_anime.\n",
    "\n",
    "1. anime.csv (caracteristicas de los animes)\n",
    "    * anime_id: Identificador único del anime.\n",
    "    * name: Nombre completo del anime.\n",
    "    * genre: Lista de géneros (separados por coma) en el que califica el anime.\n",
    "    * type: Tipo de presentación del anime, puede ser: movie, TV, OVA, etc.\n",
    "    * episodes: Número de episodios del anime (1 para el caso películas).\n",
    "    * rating: Evaluación promedio del anime.\n",
    "    * members: Número de miembros de la comunidad que están en el “grupo” del anime."
   ]
  },
  {
   "attachments": {},
   "cell_type": "markdown",
   "metadata": {},
   "source": [
    "#  <span style=\"color:green\"> ***2.- Aspectos computacionales***"
   ]
  },
  {
   "attachments": {},
   "cell_type": "markdown",
   "metadata": {},
   "source": [
    "### 2.1 .- Versiones"
   ]
  },
  {
   "attachments": {},
   "cell_type": "markdown",
   "metadata": {},
   "source": []
  },
  {
   "attachments": {},
   "cell_type": "markdown",
   "metadata": {},
   "source": [
    "### 2.2 .- Librerias"
   ]
  },
  {
   "cell_type": "code",
   "execution_count": 1,
   "metadata": {},
   "outputs": [],
   "source": [
    "import pandas as pd\n",
    "import numpy as np \n",
    "import pickle as p\n",
    "\n",
    "import seaborn as sns\n",
    "import matplotlib.pyplot as plt\n",
    "%matplotlib inline\n",
    "plt.style.use(\"seaborn-v0_8-whitegrid\")\n",
    "plt.rcParams['figure.figsize'] = (10, 6)\n",
    "\n",
    "#imputar datos\n",
    "from sklearn.impute import SimpleImputer\n",
    "\n",
    "from sklearn.model_selection import train_test_split\n",
    "from sklearn.metrics import mean_squared_error, median_absolute_error, r2_score, confusion_matrix\n",
    "\n",
    "from sklearn.linear_model import ElasticNetCV\n",
    "from sklearn.linear_model import LinearRegression\n",
    "from sklearn.svm import SVR\n",
    "from sklearn.tree import DecisionTreeRegressor\n",
    "from sklearn.ensemble import RandomForestRegressor\n",
    "from sklearn.ensemble import AdaBoostRegressor\n",
    "from sklearn.ensemble import GradientBoostingRegressor\n",
    "from sklearn.ensemble import VotingRegressor\n"
   ]
  },
  {
   "attachments": {},
   "cell_type": "markdown",
   "metadata": {},
   "source": [
    "### 2.3 Funciones Creadas"
   ]
  },
  {
   "attachments": {},
   "cell_type": "markdown",
   "metadata": {},
   "source": [
    "###  OJO**/OJO   ****** (Comentario nuestro: se hará y anexará un archivo de funciones.....parte del entregable..???)\n",
    "###                               Sin embargo, en este punto (2.3) colocaríamos solo el nombre de las funciones..?????"
   ]
  },
  {
   "cell_type": "code",
   "execution_count": 2,
   "metadata": {},
   "outputs": [],
   "source": [
    "\n",
    "def estudio_nulos(data, simbolo):\n",
    "    ''' \n",
    "    [resumen]: Imprime cantidad de perdidos en cada columna y devuelve listas,\n",
    "               todo en base al simbolo proporcionado\n",
    "    [data]: DataFrame\n",
    "    [simbolo]: Caracter, string, valor a buscar como nulo o perdido\n",
    "    [return]: lista_sincaract, lista_concaract\n",
    "    '''\n",
    "    lista_sinvacios = []\n",
    "    lista_convacios = []\n",
    "    for i in data.columns:\n",
    "        try:\n",
    "            print(f'{i}: {data[i].value_counts()[simbolo]}')\n",
    "            lista_convacios.append(i)\n",
    "        except:\n",
    "            lista_sinvacios.append(i)\n",
    "    return lista_sinvacios, lista_convacios\n",
    "\n",
    "#conteo de np.nan\n",
    "def contar_nan(data, lista_nulos):\n",
    "    ''' \n",
    "    Ingresa una data y una lista de columnas\n",
    "    para imprimir los % de nan por columnas, y el total porlineas       \n",
    "    '''\n",
    "    for col in lista_nulos:\n",
    "        nulos = data[col].isnull().value_counts(\"%\")\n",
    "        try:\n",
    "            nulos = nulos[True]*100\n",
    "            print(f'{col}: {np.round(nulos,4)}%\\n')\n",
    "        except:\n",
    "            print(f'{col}: sin nulos')\n",
    "    tmp_drop = data.dropna().copy()\n",
    "    porcion_nulos = (1-(tmp_drop.shape[0]/data.shape[0]))*100\n",
    "    print(f'% de lineas con nan en la data {np.round(porcion_nulos,4)}%')\n",
    "\n",
    "#imputar datos perdidos\n",
    "def entrenar_imputador(data:pd, strategy:str,dev_matriz=False, missing_val=np.nan, tamaño_test=0.33, random=1991):\n",
    "    ''' \n",
    "    Input:\n",
    "    data:[pd.Series]: Base de datos o vector\n",
    "    strategy:[str]: Estrategias permitidas por SimpleImputer de Sklearn\n",
    "    missing_val=np.nan [opc]\n",
    "    dev_matriz=False [opc]\n",
    "    tamaño_test=0.33 [opc]\n",
    "    random=1991 [opc]\n",
    "    Return:\n",
    "    imp: Modelo entrenado a partir de sub matriz para reemplazar missing_val\n",
    "    x_train: Sub matriz de entrenamiento\n",
    "    x_test: Sub matriz de prueba\n",
    "    df_clean: Base de datos sin valores perdidos.\n",
    "    '''\n",
    "    x_train, x_test = train_test_split(data, test_size=tamaño_test, random_state=random)\n",
    "    imp = SimpleImputer(missing_values=missing_val, strategy=strategy)\n",
    "    imp.fit_transform(x_train)\n",
    "    df_tmp = data.copy()\n",
    "    df_clean = pd.DataFrame(imp.transform(df_tmp), columns=data.columns)\n",
    "    if dev_matriz:\n",
    "        return imp, x_train, x_test, df_clean\n",
    "    else:\n",
    "        return imp, df_clean\n",
    "    \n",
    "def probar_modelos(modelo, X, y):\n",
    "    '''\n",
    "    [resumen]: modela, predice e imprime resultados MSE y R2\n",
    "    [modelo]: modelo de sklearn\n",
    "    [X]: matriz de atributos\n",
    "    [y]: Vector objectivo\n",
    "    [return]: none \n",
    "    '''\n",
    "    modelo_fit = modelo.fit(X,y)\n",
    "    y_hat = modelo_fit.predict(X)\n",
    "\n",
    "    print(f'''{modelo}\n",
    "MAE: {mean_absolute_error(y_true=y, y_pred=y_hat)}\n",
    "R2: {r2_score(y_true=y, y_pred=y_hat)}\n",
    "---------------------------------------------------''')"
   ]
  },
  {
   "attachments": {},
   "cell_type": "markdown",
   "metadata": {},
   "source": [
    "#  <span style=\"color:green\"> ***3.- Ingenieria de Datos***"
   ]
  },
  {
   "cell_type": "code",
   "execution_count": null,
   "metadata": {},
   "outputs": [],
   "source": []
  },
  {
   "attachments": {},
   "cell_type": "markdown",
   "metadata": {},
   "source": [
    "1. Imputar valores nulos con la estrategia **mas frecuente** \n",
    "2. Corregir las palabras mal escritas de la columna genre.\n",
    "3. Aplicar dummies en las columnas genere y type."
   ]
  },
  {
   "attachments": {},
   "cell_type": "markdown",
   "metadata": {},
   "source": [
    "## 3.1 .- Importar del dataset \"anime\" y construcción del dataframe: df"
   ]
  },
  {
   "cell_type": "code",
   "execution_count": 7,
   "metadata": {},
   "outputs": [
    {
     "data": {
      "text/html": [
       "<div>\n",
       "<style scoped>\n",
       "    .dataframe tbody tr th:only-of-type {\n",
       "        vertical-align: middle;\n",
       "    }\n",
       "\n",
       "    .dataframe tbody tr th {\n",
       "        vertical-align: top;\n",
       "    }\n",
       "\n",
       "    .dataframe thead th {\n",
       "        text-align: right;\n",
       "    }\n",
       "</style>\n",
       "<table border=\"1\" class=\"dataframe\">\n",
       "  <thead>\n",
       "    <tr style=\"text-align: right;\">\n",
       "      <th></th>\n",
       "      <th>anime_id</th>\n",
       "      <th>name</th>\n",
       "      <th>genre</th>\n",
       "      <th>type</th>\n",
       "      <th>episodes</th>\n",
       "      <th>rating</th>\n",
       "      <th>members</th>\n",
       "    </tr>\n",
       "  </thead>\n",
       "  <tbody>\n",
       "    <tr>\n",
       "      <th>0</th>\n",
       "      <td>32281</td>\n",
       "      <td>Kimi no Na wa.</td>\n",
       "      <td>Drama, Romance, School, Supernatural</td>\n",
       "      <td>Movie</td>\n",
       "      <td>1</td>\n",
       "      <td>9,37</td>\n",
       "      <td>200630</td>\n",
       "    </tr>\n",
       "    <tr>\n",
       "      <th>1</th>\n",
       "      <td>5114</td>\n",
       "      <td>Fullmetal Alchemist: Brotherhood</td>\n",
       "      <td>Action, Adventure, Drama, Fantasy, Magic, Mili...</td>\n",
       "      <td>TV</td>\n",
       "      <td>64</td>\n",
       "      <td>9,26</td>\n",
       "      <td>793665</td>\n",
       "    </tr>\n",
       "    <tr>\n",
       "      <th>2</th>\n",
       "      <td>28977</td>\n",
       "      <td>Gintama°</td>\n",
       "      <td>Action, Comedy, Historical, Parody, Samurai, S...</td>\n",
       "      <td>TV</td>\n",
       "      <td>51</td>\n",
       "      <td>9,25</td>\n",
       "      <td>114262</td>\n",
       "    </tr>\n",
       "    <tr>\n",
       "      <th>3</th>\n",
       "      <td>9253</td>\n",
       "      <td>Steins;Gate</td>\n",
       "      <td>Sci-Fi, Thriller</td>\n",
       "      <td>TV</td>\n",
       "      <td>24</td>\n",
       "      <td>9,17</td>\n",
       "      <td>673572</td>\n",
       "    </tr>\n",
       "    <tr>\n",
       "      <th>4</th>\n",
       "      <td>9969</td>\n",
       "      <td>Gintama&amp;#039;</td>\n",
       "      <td>Action, Comedy, Historical, Parody, Samurai, S...</td>\n",
       "      <td>TV</td>\n",
       "      <td>51</td>\n",
       "      <td>9,16</td>\n",
       "      <td>151266</td>\n",
       "    </tr>\n",
       "    <tr>\n",
       "      <th>...</th>\n",
       "      <td>...</td>\n",
       "      <td>...</td>\n",
       "      <td>...</td>\n",
       "      <td>...</td>\n",
       "      <td>...</td>\n",
       "      <td>...</td>\n",
       "      <td>...</td>\n",
       "    </tr>\n",
       "    <tr>\n",
       "      <th>12289</th>\n",
       "      <td>9316</td>\n",
       "      <td>Toushindai My Lover: Minami tai Mecha-Minami</td>\n",
       "      <td>Hentai</td>\n",
       "      <td>OVA</td>\n",
       "      <td>1</td>\n",
       "      <td>4,15</td>\n",
       "      <td>211</td>\n",
       "    </tr>\n",
       "    <tr>\n",
       "      <th>12290</th>\n",
       "      <td>5543</td>\n",
       "      <td>Under World</td>\n",
       "      <td>Hentai</td>\n",
       "      <td>OVA</td>\n",
       "      <td>1</td>\n",
       "      <td>4,28</td>\n",
       "      <td>183</td>\n",
       "    </tr>\n",
       "    <tr>\n",
       "      <th>12291</th>\n",
       "      <td>5621</td>\n",
       "      <td>Violence Gekiga David no Hoshi</td>\n",
       "      <td>Hentai</td>\n",
       "      <td>OVA</td>\n",
       "      <td>4</td>\n",
       "      <td>4,88</td>\n",
       "      <td>219</td>\n",
       "    </tr>\n",
       "    <tr>\n",
       "      <th>12292</th>\n",
       "      <td>6133</td>\n",
       "      <td>Violence Gekiga Shin David no Hoshi: Inma Dens...</td>\n",
       "      <td>Hentai</td>\n",
       "      <td>OVA</td>\n",
       "      <td>1</td>\n",
       "      <td>4,98</td>\n",
       "      <td>175</td>\n",
       "    </tr>\n",
       "    <tr>\n",
       "      <th>12293</th>\n",
       "      <td>26081</td>\n",
       "      <td>Yasuji no Pornorama: Yacchimae!!</td>\n",
       "      <td>Hentai</td>\n",
       "      <td>Movie</td>\n",
       "      <td>1</td>\n",
       "      <td>5,46</td>\n",
       "      <td>142</td>\n",
       "    </tr>\n",
       "  </tbody>\n",
       "</table>\n",
       "<p>12294 rows × 7 columns</p>\n",
       "</div>"
      ],
      "text/plain": [
       "       anime_id                                               name  \\\n",
       "0         32281                                     Kimi no Na wa.   \n",
       "1          5114                   Fullmetal Alchemist: Brotherhood   \n",
       "2         28977                                           Gintama°   \n",
       "3          9253                                        Steins;Gate   \n",
       "4          9969                                      Gintama&#039;   \n",
       "...         ...                                                ...   \n",
       "12289      9316       Toushindai My Lover: Minami tai Mecha-Minami   \n",
       "12290      5543                                        Under World   \n",
       "12291      5621                     Violence Gekiga David no Hoshi   \n",
       "12292      6133  Violence Gekiga Shin David no Hoshi: Inma Dens...   \n",
       "12293     26081                   Yasuji no Pornorama: Yacchimae!!   \n",
       "\n",
       "                                                   genre   type episodes  \\\n",
       "0                   Drama, Romance, School, Supernatural  Movie        1   \n",
       "1      Action, Adventure, Drama, Fantasy, Magic, Mili...     TV       64   \n",
       "2      Action, Comedy, Historical, Parody, Samurai, S...     TV       51   \n",
       "3                                       Sci-Fi, Thriller     TV       24   \n",
       "4      Action, Comedy, Historical, Parody, Samurai, S...     TV       51   \n",
       "...                                                  ...    ...      ...   \n",
       "12289                                             Hentai    OVA        1   \n",
       "12290                                             Hentai    OVA        1   \n",
       "12291                                             Hentai    OVA        4   \n",
       "12292                                             Hentai    OVA        1   \n",
       "12293                                             Hentai  Movie        1   \n",
       "\n",
       "      rating  members  \n",
       "0       9,37   200630  \n",
       "1       9,26   793665  \n",
       "2       9,25   114262  \n",
       "3       9,17   673572  \n",
       "4       9,16   151266  \n",
       "...      ...      ...  \n",
       "12289   4,15      211  \n",
       "12290   4,28      183  \n",
       "12291   4,88      219  \n",
       "12292   4,98      175  \n",
       "12293   5,46      142  \n",
       "\n",
       "[12294 rows x 7 columns]"
      ]
     },
     "execution_count": 7,
     "metadata": {},
     "output_type": "execute_result"
    }
   ],
   "source": [
    "#         Importación de datos al ambiente de trabajo. \n",
    "df= pd.read_csv('/Users/elio1/Dataset_csv/anime.csv', delimiter=';') # Descg. archivo asignado.\n",
    "df"
   ]
  },
  {
   "attachments": {},
   "cell_type": "markdown",
   "metadata": {},
   "source": [
    "## 3.2 .- Exploración y tratamiento Nulos, vacios y valores especiales"
   ]
  },
  {
   "attachments": {},
   "cell_type": "markdown",
   "metadata": {},
   "source": [
    "### Columna 'name'"
   ]
  },
  {
   "cell_type": "code",
   "execution_count": 18,
   "metadata": {},
   "outputs": [
    {
     "data": {
      "text/plain": [
       "Shi Wan Ge Leng Xiaohua                           2\n",
       "Saru Kani Gassen                                  2\n",
       "Bakabon Osomatsu no Karee wo Tazunete Sansenri    1\n",
       "Backkom Meogeujan Yeohaeng                        1\n",
       "Backkom Mission Impossible                        1\n",
       "                                                 ..\n",
       "Yoroiden Samurai Troopers Kikoutei Densetsu       1\n",
       "Yuu☆Yuu☆Hakusho: Mu Mu Hakusho                    1\n",
       "3-gatsu no Lion meets Bump of Chicken             1\n",
       "Bannou Bunka Neko-Musume                          1\n",
       "Yasuji no Pornorama: Yacchimae!!                  1\n",
       "Name: name, Length: 12292, dtype: int64"
      ]
     },
     "execution_count": 18,
     "metadata": {},
     "output_type": "execute_result"
    }
   ],
   "source": [
    "df['name'].value_counts()"
   ]
  },
  {
   "cell_type": "code",
   "execution_count": 8,
   "metadata": {},
   "outputs": [
    {
     "data": {
      "text/html": [
       "<div>\n",
       "<style scoped>\n",
       "    .dataframe tbody tr th:only-of-type {\n",
       "        vertical-align: middle;\n",
       "    }\n",
       "\n",
       "    .dataframe tbody tr th {\n",
       "        vertical-align: top;\n",
       "    }\n",
       "\n",
       "    .dataframe thead th {\n",
       "        text-align: right;\n",
       "    }\n",
       "</style>\n",
       "<table border=\"1\" class=\"dataframe\">\n",
       "  <thead>\n",
       "    <tr style=\"text-align: right;\">\n",
       "      <th></th>\n",
       "      <th>anime_id</th>\n",
       "      <th>name</th>\n",
       "      <th>genre</th>\n",
       "      <th>type</th>\n",
       "      <th>episodes</th>\n",
       "      <th>rating</th>\n",
       "      <th>members</th>\n",
       "    </tr>\n",
       "  </thead>\n",
       "  <tbody>\n",
       "    <tr>\n",
       "      <th>10193</th>\n",
       "      <td>33193</td>\n",
       "      <td>Shi Wan Ge Leng Xiaohua</td>\n",
       "      <td>Comedy, Parody</td>\n",
       "      <td>ONA</td>\n",
       "      <td>12</td>\n",
       "      <td>6,67</td>\n",
       "      <td>114</td>\n",
       "    </tr>\n",
       "    <tr>\n",
       "      <th>10194</th>\n",
       "      <td>33195</td>\n",
       "      <td>Shi Wan Ge Leng Xiaohua</td>\n",
       "      <td>Action, Adventure, Comedy, Fantasy, Parody</td>\n",
       "      <td>Movie</td>\n",
       "      <td>1</td>\n",
       "      <td>7,07</td>\n",
       "      <td>110</td>\n",
       "    </tr>\n",
       "  </tbody>\n",
       "</table>\n",
       "</div>"
      ],
      "text/plain": [
       "       anime_id                     name  \\\n",
       "10193     33193  Shi Wan Ge Leng Xiaohua   \n",
       "10194     33195  Shi Wan Ge Leng Xiaohua   \n",
       "\n",
       "                                            genre   type episodes rating  \\\n",
       "10193                              Comedy, Parody    ONA       12   6,67   \n",
       "10194  Action, Adventure, Comedy, Fantasy, Parody  Movie        1   7,07   \n",
       "\n",
       "       members  \n",
       "10193      114  \n",
       "10194      110  "
      ]
     },
     "execution_count": 8,
     "metadata": {},
     "output_type": "execute_result"
    }
   ],
   "source": [
    "df.loc[df['name'] =='Shi Wan Ge Leng Xiaohua']"
   ]
  },
  {
   "cell_type": "code",
   "execution_count": 9,
   "metadata": {},
   "outputs": [
    {
     "data": {
      "text/html": [
       "<div>\n",
       "<style scoped>\n",
       "    .dataframe tbody tr th:only-of-type {\n",
       "        vertical-align: middle;\n",
       "    }\n",
       "\n",
       "    .dataframe tbody tr th {\n",
       "        vertical-align: top;\n",
       "    }\n",
       "\n",
       "    .dataframe thead th {\n",
       "        text-align: right;\n",
       "    }\n",
       "</style>\n",
       "<table border=\"1\" class=\"dataframe\">\n",
       "  <thead>\n",
       "    <tr style=\"text-align: right;\">\n",
       "      <th></th>\n",
       "      <th>anime_id</th>\n",
       "      <th>name</th>\n",
       "      <th>genre</th>\n",
       "      <th>type</th>\n",
       "      <th>episodes</th>\n",
       "      <th>rating</th>\n",
       "      <th>members</th>\n",
       "    </tr>\n",
       "  </thead>\n",
       "  <tbody>\n",
       "    <tr>\n",
       "      <th>10140</th>\n",
       "      <td>22399</td>\n",
       "      <td>Saru Kani Gassen</td>\n",
       "      <td>Kids</td>\n",
       "      <td>OVA</td>\n",
       "      <td>1</td>\n",
       "      <td>5,23</td>\n",
       "      <td>62</td>\n",
       "    </tr>\n",
       "    <tr>\n",
       "      <th>10141</th>\n",
       "      <td>30059</td>\n",
       "      <td>Saru Kani Gassen</td>\n",
       "      <td>Drama</td>\n",
       "      <td>Movie</td>\n",
       "      <td>1</td>\n",
       "      <td>4,75</td>\n",
       "      <td>76</td>\n",
       "    </tr>\n",
       "  </tbody>\n",
       "</table>\n",
       "</div>"
      ],
      "text/plain": [
       "       anime_id              name  genre   type episodes rating  members\n",
       "10140     22399  Saru Kani Gassen   Kids    OVA        1   5,23       62\n",
       "10141     30059  Saru Kani Gassen  Drama  Movie        1   4,75       76"
      ]
     },
     "execution_count": 9,
     "metadata": {},
     "output_type": "execute_result"
    }
   ],
   "source": [
    "df.loc[df['name'] =='Saru Kani Gassen']"
   ]
  },
  {
   "attachments": {},
   "cell_type": "markdown",
   "metadata": {},
   "source": [
    "Son nombres repetidos, sin embargo apuntan a sus respectivos tipos distintos, por ende se dejan ambos"
   ]
  },
  {
   "attachments": {},
   "cell_type": "markdown",
   "metadata": {},
   "source": [
    "### Columna 'genre'"
   ]
  },
  {
   "attachments": {},
   "cell_type": "markdown",
   "metadata": {},
   "source": [
    "Eliminación de caracteres especiales:"
   ]
  },
  {
   "cell_type": "code",
   "execution_count": 10,
   "metadata": {},
   "outputs": [],
   "source": [
    "df['genre'] = df['genre'].str.replace(', ', ',')\n",
    "df['genre'] = df['genre'].str.replace('Sclice of Life', 'Slice of Life')\n",
    "df['genre'] = df['genre'].str.replace('-', '_')\n",
    "df['genre'] = df['genre'].str.replace(' ', '_')"
   ]
  },
  {
   "attachments": {},
   "cell_type": "markdown",
   "metadata": {},
   "source": [
    "### Columna 'Episode'"
   ]
  },
  {
   "cell_type": "code",
   "execution_count": 11,
   "metadata": {},
   "outputs": [
    {
     "data": {
      "text/plain": [
       "False    12294\n",
       "Name: episodes, dtype: int64"
      ]
     },
     "execution_count": 11,
     "metadata": {},
     "output_type": "execute_result"
    }
   ],
   "source": [
    "df['episodes'].isna().value_counts()"
   ]
  },
  {
   "cell_type": "code",
   "execution_count": 12,
   "metadata": {},
   "outputs": [
    {
     "data": {
      "text/plain": [
       "Unknown    340\n",
       "Name: episodes, dtype: int64"
      ]
     },
     "execution_count": 12,
     "metadata": {},
     "output_type": "execute_result"
    }
   ],
   "source": [
    "df['episodes'][df['episodes']== 'Unknown'].value_counts()"
   ]
  },
  {
   "cell_type": "code",
   "execution_count": 13,
   "metadata": {},
   "outputs": [],
   "source": [
    "df['episodes'] = np.where(df['episodes'] == 'Unknown', np.nan, df['episodes'])"
   ]
  },
  {
   "attachments": {},
   "cell_type": "markdown",
   "metadata": {},
   "source": [
    "### Columna 'Rating'"
   ]
  },
  {
   "cell_type": "code",
   "execution_count": 14,
   "metadata": {},
   "outputs": [],
   "source": [
    "df['rating'] = df['rating'].str.replace(',', '.').astype(float)"
   ]
  },
  {
   "attachments": {},
   "cell_type": "markdown",
   "metadata": {},
   "source": [
    "## 3.3 .- Analisis de np.nan en \"df_anime\""
   ]
  },
  {
   "attachments": {},
   "cell_type": "markdown",
   "metadata": {},
   "source": [
    "### Imputar np.nan"
   ]
  },
  {
   "cell_type": "code",
   "execution_count": 15,
   "metadata": {},
   "outputs": [
    {
     "name": "stdout",
     "output_type": "stream",
     "text": [
      "anime_id: sin nulos\n",
      "name: sin nulos\n",
      "genre: 0.3823%\n",
      "\n",
      "type: 0.2034%\n",
      "\n",
      "episodes: 2.7656%\n",
      "\n",
      "rating: 1.8708%\n",
      "\n",
      "members: sin nulos\n",
      "% de lineas con nan en la data 3.7742%\n"
     ]
    }
   ],
   "source": [
    "contar_nan(df, df.columns)"
   ]
  },
  {
   "cell_type": "code",
   "execution_count": 16,
   "metadata": {},
   "outputs": [],
   "source": [
    "imputer, df_clean = entrenar_imputador(df.drop(columns='rating'), strategy='most_frequent',dev_matriz=False, missing_val=np.nan, tamaño_test=0.33, random=1991)"
   ]
  },
  {
   "cell_type": "code",
   "execution_count": 17,
   "metadata": {},
   "outputs": [
    {
     "data": {
      "text/html": [
       "<div>\n",
       "<style scoped>\n",
       "    .dataframe tbody tr th:only-of-type {\n",
       "        vertical-align: middle;\n",
       "    }\n",
       "\n",
       "    .dataframe tbody tr th {\n",
       "        vertical-align: top;\n",
       "    }\n",
       "\n",
       "    .dataframe thead th {\n",
       "        text-align: right;\n",
       "    }\n",
       "</style>\n",
       "<table border=\"1\" class=\"dataframe\">\n",
       "  <thead>\n",
       "    <tr style=\"text-align: right;\">\n",
       "      <th></th>\n",
       "      <th>anime_id</th>\n",
       "      <th>name</th>\n",
       "      <th>genre</th>\n",
       "      <th>type</th>\n",
       "      <th>episodes</th>\n",
       "      <th>members</th>\n",
       "      <th>rating</th>\n",
       "    </tr>\n",
       "  </thead>\n",
       "  <tbody>\n",
       "    <tr>\n",
       "      <th>0</th>\n",
       "      <td>32281</td>\n",
       "      <td>Kimi no Na wa.</td>\n",
       "      <td>Drama,Romance,School,Supernatural</td>\n",
       "      <td>Movie</td>\n",
       "      <td>1</td>\n",
       "      <td>200630</td>\n",
       "      <td>9.37</td>\n",
       "    </tr>\n",
       "    <tr>\n",
       "      <th>1</th>\n",
       "      <td>5114</td>\n",
       "      <td>Fullmetal Alchemist: Brotherhood</td>\n",
       "      <td>Action,Adventure,Drama,Fantasy,Magic,Military,...</td>\n",
       "      <td>TV</td>\n",
       "      <td>64</td>\n",
       "      <td>793665</td>\n",
       "      <td>9.26</td>\n",
       "    </tr>\n",
       "    <tr>\n",
       "      <th>2</th>\n",
       "      <td>28977</td>\n",
       "      <td>Gintama°</td>\n",
       "      <td>Action,Comedy,Historical,Parody,Samurai,Sci_Fi...</td>\n",
       "      <td>TV</td>\n",
       "      <td>51</td>\n",
       "      <td>114262</td>\n",
       "      <td>9.25</td>\n",
       "    </tr>\n",
       "    <tr>\n",
       "      <th>3</th>\n",
       "      <td>9253</td>\n",
       "      <td>Steins;Gate</td>\n",
       "      <td>Sci_Fi,Thriller</td>\n",
       "      <td>TV</td>\n",
       "      <td>24</td>\n",
       "      <td>673572</td>\n",
       "      <td>9.17</td>\n",
       "    </tr>\n",
       "    <tr>\n",
       "      <th>4</th>\n",
       "      <td>9969</td>\n",
       "      <td>Gintama&amp;#039;</td>\n",
       "      <td>Action,Comedy,Historical,Parody,Samurai,Sci_Fi...</td>\n",
       "      <td>TV</td>\n",
       "      <td>51</td>\n",
       "      <td>151266</td>\n",
       "      <td>9.16</td>\n",
       "    </tr>\n",
       "  </tbody>\n",
       "</table>\n",
       "</div>"
      ],
      "text/plain": [
       "  anime_id                              name  \\\n",
       "0    32281                    Kimi no Na wa.   \n",
       "1     5114  Fullmetal Alchemist: Brotherhood   \n",
       "2    28977                          Gintama°   \n",
       "3     9253                       Steins;Gate   \n",
       "4     9969                     Gintama&#039;   \n",
       "\n",
       "                                               genre   type episodes members  \\\n",
       "0                  Drama,Romance,School,Supernatural  Movie        1  200630   \n",
       "1  Action,Adventure,Drama,Fantasy,Magic,Military,...     TV       64  793665   \n",
       "2  Action,Comedy,Historical,Parody,Samurai,Sci_Fi...     TV       51  114262   \n",
       "3                                    Sci_Fi,Thriller     TV       24  673572   \n",
       "4  Action,Comedy,Historical,Parody,Samurai,Sci_Fi...     TV       51  151266   \n",
       "\n",
       "   rating  \n",
       "0    9.37  \n",
       "1    9.26  \n",
       "2    9.25  \n",
       "3    9.17  \n",
       "4    9.16  "
      ]
     },
     "execution_count": 17,
     "metadata": {},
     "output_type": "execute_result"
    }
   ],
   "source": [
    "df_clean = pd.concat([df_clean,df['rating']], axis=1)\n",
    "df_clean.head(5)"
   ]
  },
  {
   "cell_type": "code",
   "execution_count": 18,
   "metadata": {},
   "outputs": [
    {
     "name": "stdout",
     "output_type": "stream",
     "text": [
      "anime_id: sin nulos\n",
      "name: sin nulos\n",
      "genre: sin nulos\n",
      "type: sin nulos\n",
      "episodes: sin nulos\n",
      "rating: 1.8708%\n",
      "\n",
      "members: sin nulos\n",
      "% de lineas con nan en la data 1.8708%\n"
     ]
    }
   ],
   "source": [
    "contar_nan(df_clean, df.columns)"
   ]
  },
  {
   "attachments": {},
   "cell_type": "markdown",
   "metadata": {},
   "source": [
    "### Separar matriz de nulos en el vector objetivo 'rating'"
   ]
  },
  {
   "cell_type": "code",
   "execution_count": 19,
   "metadata": {},
   "outputs": [],
   "source": [
    "df_test_nulos = df_clean.loc[df_clean['rating'].isna()]"
   ]
  },
  {
   "cell_type": "code",
   "execution_count": 20,
   "metadata": {},
   "outputs": [],
   "source": [
    "df_clean = df_clean.dropna()"
   ]
  },
  {
   "cell_type": "code",
   "execution_count": 21,
   "metadata": {},
   "outputs": [
    {
     "name": "stdout",
     "output_type": "stream",
     "text": [
      "anime_id: sin nulos\n",
      "name: sin nulos\n",
      "genre: sin nulos\n",
      "type: sin nulos\n",
      "episodes: sin nulos\n",
      "rating: sin nulos\n",
      "members: sin nulos\n",
      "% de lineas con nan en la data 0.0%\n"
     ]
    }
   ],
   "source": [
    "contar_nan(df_clean, df.columns)"
   ]
  },
  {
   "cell_type": "code",
   "execution_count": 22,
   "metadata": {},
   "outputs": [
    {
     "data": {
      "text/plain": [
       "(12064, 7)"
      ]
     },
     "execution_count": 22,
     "metadata": {},
     "output_type": "execute_result"
    }
   ],
   "source": [
    "df_clean.shape"
   ]
  },
  {
   "attachments": {},
   "cell_type": "markdown",
   "metadata": {},
   "source": [
    "## 3.4 Recodificar columna 'genre'"
   ]
  },
  {
   "cell_type": "code",
   "execution_count": 23,
   "metadata": {},
   "outputs": [
    {
     "data": {
      "text/plain": [
       "False    12064\n",
       "Name: genre, dtype: int64"
      ]
     },
     "execution_count": 23,
     "metadata": {},
     "output_type": "execute_result"
    }
   ],
   "source": [
    "(df_clean['genre'] == '').value_counts()"
   ]
  },
  {
   "attachments": {},
   "cell_type": "markdown",
   "metadata": {},
   "source": [
    "#  <span style=\"color:green\"> ***4 .- Generar matrices: \"X\" e  \"y\"***"
   ]
  },
  {
   "attachments": {},
   "cell_type": "markdown",
   "metadata": {},
   "source": [
    "## 4.1 .- Dummies"
   ]
  },
  {
   "cell_type": "code",
   "execution_count": 24,
   "metadata": {},
   "outputs": [
    {
     "data": {
      "text/html": [
       "<div>\n",
       "<style scoped>\n",
       "    .dataframe tbody tr th:only-of-type {\n",
       "        vertical-align: middle;\n",
       "    }\n",
       "\n",
       "    .dataframe tbody tr th {\n",
       "        vertical-align: top;\n",
       "    }\n",
       "\n",
       "    .dataframe thead th {\n",
       "        text-align: right;\n",
       "    }\n",
       "</style>\n",
       "<table border=\"1\" class=\"dataframe\">\n",
       "  <thead>\n",
       "    <tr style=\"text-align: right;\">\n",
       "      <th></th>\n",
       "      <th>genre_Action</th>\n",
       "      <th>genre_Action,Adventure</th>\n",
       "      <th>genre_Action,Adventure,Cars,Comedy,Sci_Fi,Shounen</th>\n",
       "      <th>genre_Action,Adventure,Cars,Mecha,Sci_Fi,Shounen,Sports</th>\n",
       "      <th>genre_Action,Adventure,Cars,Sci_Fi</th>\n",
       "      <th>genre_Action,Adventure,Comedy</th>\n",
       "      <th>genre_Action,Adventure,Comedy,Demons,Drama,Ecchi,Horror,Mystery,Romance,Sci_Fi</th>\n",
       "      <th>genre_Action,Adventure,Comedy,Demons,Fantasy,Magic</th>\n",
       "      <th>genre_Action,Adventure,Comedy,Demons,Fantasy,Magic,Romance,Shounen,Supernatural</th>\n",
       "      <th>genre_Action,Adventure,Comedy,Demons,Fantasy,Martial_Arts,Shounen,Super_Power</th>\n",
       "      <th>...</th>\n",
       "      <th>genre_Vampire</th>\n",
       "      <th>genre_Yaoi</th>\n",
       "      <th>type_Movie</th>\n",
       "      <th>type_Music</th>\n",
       "      <th>type_ONA</th>\n",
       "      <th>type_OVA</th>\n",
       "      <th>type_Special</th>\n",
       "      <th>type_TV</th>\n",
       "      <th>episodes</th>\n",
       "      <th>members</th>\n",
       "    </tr>\n",
       "  </thead>\n",
       "  <tbody>\n",
       "    <tr>\n",
       "      <th>0</th>\n",
       "      <td>0</td>\n",
       "      <td>0</td>\n",
       "      <td>0</td>\n",
       "      <td>0</td>\n",
       "      <td>0</td>\n",
       "      <td>0</td>\n",
       "      <td>0</td>\n",
       "      <td>0</td>\n",
       "      <td>0</td>\n",
       "      <td>0</td>\n",
       "      <td>...</td>\n",
       "      <td>0</td>\n",
       "      <td>0</td>\n",
       "      <td>1</td>\n",
       "      <td>0</td>\n",
       "      <td>0</td>\n",
       "      <td>0</td>\n",
       "      <td>0</td>\n",
       "      <td>0</td>\n",
       "      <td>1</td>\n",
       "      <td>200630</td>\n",
       "    </tr>\n",
       "    <tr>\n",
       "      <th>1</th>\n",
       "      <td>0</td>\n",
       "      <td>0</td>\n",
       "      <td>0</td>\n",
       "      <td>0</td>\n",
       "      <td>0</td>\n",
       "      <td>0</td>\n",
       "      <td>0</td>\n",
       "      <td>0</td>\n",
       "      <td>0</td>\n",
       "      <td>0</td>\n",
       "      <td>...</td>\n",
       "      <td>0</td>\n",
       "      <td>0</td>\n",
       "      <td>0</td>\n",
       "      <td>0</td>\n",
       "      <td>0</td>\n",
       "      <td>0</td>\n",
       "      <td>0</td>\n",
       "      <td>1</td>\n",
       "      <td>64</td>\n",
       "      <td>793665</td>\n",
       "    </tr>\n",
       "    <tr>\n",
       "      <th>2</th>\n",
       "      <td>0</td>\n",
       "      <td>0</td>\n",
       "      <td>0</td>\n",
       "      <td>0</td>\n",
       "      <td>0</td>\n",
       "      <td>0</td>\n",
       "      <td>0</td>\n",
       "      <td>0</td>\n",
       "      <td>0</td>\n",
       "      <td>0</td>\n",
       "      <td>...</td>\n",
       "      <td>0</td>\n",
       "      <td>0</td>\n",
       "      <td>0</td>\n",
       "      <td>0</td>\n",
       "      <td>0</td>\n",
       "      <td>0</td>\n",
       "      <td>0</td>\n",
       "      <td>1</td>\n",
       "      <td>51</td>\n",
       "      <td>114262</td>\n",
       "    </tr>\n",
       "    <tr>\n",
       "      <th>3</th>\n",
       "      <td>0</td>\n",
       "      <td>0</td>\n",
       "      <td>0</td>\n",
       "      <td>0</td>\n",
       "      <td>0</td>\n",
       "      <td>0</td>\n",
       "      <td>0</td>\n",
       "      <td>0</td>\n",
       "      <td>0</td>\n",
       "      <td>0</td>\n",
       "      <td>...</td>\n",
       "      <td>0</td>\n",
       "      <td>0</td>\n",
       "      <td>0</td>\n",
       "      <td>0</td>\n",
       "      <td>0</td>\n",
       "      <td>0</td>\n",
       "      <td>0</td>\n",
       "      <td>1</td>\n",
       "      <td>24</td>\n",
       "      <td>673572</td>\n",
       "    </tr>\n",
       "    <tr>\n",
       "      <th>4</th>\n",
       "      <td>0</td>\n",
       "      <td>0</td>\n",
       "      <td>0</td>\n",
       "      <td>0</td>\n",
       "      <td>0</td>\n",
       "      <td>0</td>\n",
       "      <td>0</td>\n",
       "      <td>0</td>\n",
       "      <td>0</td>\n",
       "      <td>0</td>\n",
       "      <td>...</td>\n",
       "      <td>0</td>\n",
       "      <td>0</td>\n",
       "      <td>0</td>\n",
       "      <td>0</td>\n",
       "      <td>0</td>\n",
       "      <td>0</td>\n",
       "      <td>0</td>\n",
       "      <td>1</td>\n",
       "      <td>51</td>\n",
       "      <td>151266</td>\n",
       "    </tr>\n",
       "  </tbody>\n",
       "</table>\n",
       "<p>5 rows × 3237 columns</p>\n",
       "</div>"
      ],
      "text/plain": [
       "   genre_Action  genre_Action,Adventure  \\\n",
       "0             0                       0   \n",
       "1             0                       0   \n",
       "2             0                       0   \n",
       "3             0                       0   \n",
       "4             0                       0   \n",
       "\n",
       "   genre_Action,Adventure,Cars,Comedy,Sci_Fi,Shounen  \\\n",
       "0                                                  0   \n",
       "1                                                  0   \n",
       "2                                                  0   \n",
       "3                                                  0   \n",
       "4                                                  0   \n",
       "\n",
       "   genre_Action,Adventure,Cars,Mecha,Sci_Fi,Shounen,Sports  \\\n",
       "0                                                  0         \n",
       "1                                                  0         \n",
       "2                                                  0         \n",
       "3                                                  0         \n",
       "4                                                  0         \n",
       "\n",
       "   genre_Action,Adventure,Cars,Sci_Fi  genre_Action,Adventure,Comedy  \\\n",
       "0                                   0                              0   \n",
       "1                                   0                              0   \n",
       "2                                   0                              0   \n",
       "3                                   0                              0   \n",
       "4                                   0                              0   \n",
       "\n",
       "   genre_Action,Adventure,Comedy,Demons,Drama,Ecchi,Horror,Mystery,Romance,Sci_Fi  \\\n",
       "0                                                  0                                \n",
       "1                                                  0                                \n",
       "2                                                  0                                \n",
       "3                                                  0                                \n",
       "4                                                  0                                \n",
       "\n",
       "   genre_Action,Adventure,Comedy,Demons,Fantasy,Magic  \\\n",
       "0                                                  0    \n",
       "1                                                  0    \n",
       "2                                                  0    \n",
       "3                                                  0    \n",
       "4                                                  0    \n",
       "\n",
       "   genre_Action,Adventure,Comedy,Demons,Fantasy,Magic,Romance,Shounen,Supernatural  \\\n",
       "0                                                  0                                 \n",
       "1                                                  0                                 \n",
       "2                                                  0                                 \n",
       "3                                                  0                                 \n",
       "4                                                  0                                 \n",
       "\n",
       "   genre_Action,Adventure,Comedy,Demons,Fantasy,Martial_Arts,Shounen,Super_Power  \\\n",
       "0                                                  0                               \n",
       "1                                                  0                               \n",
       "2                                                  0                               \n",
       "3                                                  0                               \n",
       "4                                                  0                               \n",
       "\n",
       "   ...  genre_Vampire  genre_Yaoi  type_Movie  type_Music  type_ONA  type_OVA  \\\n",
       "0  ...              0           0           1           0         0         0   \n",
       "1  ...              0           0           0           0         0         0   \n",
       "2  ...              0           0           0           0         0         0   \n",
       "3  ...              0           0           0           0         0         0   \n",
       "4  ...              0           0           0           0         0         0   \n",
       "\n",
       "   type_Special  type_TV  episodes  members  \n",
       "0             0        0         1   200630  \n",
       "1             0        1        64   793665  \n",
       "2             0        1        51   114262  \n",
       "3             0        1        24   673572  \n",
       "4             0        1        51   151266  \n",
       "\n",
       "[5 rows x 3237 columns]"
      ]
     },
     "execution_count": 24,
     "metadata": {},
     "output_type": "execute_result"
    }
   ],
   "source": [
    "df_modelo = pd.get_dummies(df_clean[['genre','type']])\n",
    "df_modelo['episodes'] = df_clean['episodes'].astype(int).copy()\n",
    "df_modelo['members'] = df_clean['members'].astype(int).copy()\n",
    "df_modelo.head(5)"
   ]
  },
  {
   "cell_type": "code",
   "execution_count": 25,
   "metadata": {},
   "outputs": [
    {
     "name": "stdout",
     "output_type": "stream",
     "text": [
      "<class 'pandas.core.frame.DataFrame'>\n",
      "Int64Index: 12064 entries, 0 to 12293\n",
      "Columns: 3237 entries, genre_Action to members\n",
      "dtypes: int32(2), uint8(3235)\n",
      "memory usage: 37.4 MB\n"
     ]
    }
   ],
   "source": [
    "df_modelo.info()"
   ]
  },
  {
   "cell_type": "code",
   "execution_count": 26,
   "metadata": {},
   "outputs": [
    {
     "data": {
      "text/plain": [
       "(12064, 3237)"
      ]
     },
     "execution_count": 26,
     "metadata": {},
     "output_type": "execute_result"
    }
   ],
   "source": [
    "df_modelo.shape"
   ]
  },
  {
   "cell_type": "code",
   "execution_count": 27,
   "metadata": {},
   "outputs": [],
   "source": [
    "y = df_clean['rating']"
   ]
  },
  {
   "attachments": {},
   "cell_type": "markdown",
   "metadata": {},
   "source": [
    "##  <span style=\"color:green\"> ***5.- Modelos a utilizar*** "
   ]
  },
  {
   "attachments": {},
   "cell_type": "markdown",
   "metadata": {},
   "source": [
    "### 5.1 .- Iteracion sin hiper parametros"
   ]
  },
  {
   "cell_type": "code",
   "execution_count": 35,
   "metadata": {},
   "outputs": [],
   "source": [
    "modelos_lista = [\n",
    "    ElasticNetCV(),\n",
    "    LinearRegression()\n",
    "    #SVR(),\n",
    "    #DecisionTreeRegressor(),\n",
    "    #RandomForestRegressor(),  \n",
    "    #AdaBoostRegressor(),\n",
    "    #GradientBoostingRegressor()\n",
    "]"
   ]
  },
  {
   "cell_type": "code",
   "execution_count": 36,
   "metadata": {},
   "outputs": [],
   "source": [
    "# Función para generar los Reportes de los 7 modelos:\n",
    "def probar_modelos(modelo, X, y):\n",
    "    modelo_fit = modelo.fit(X,y)\n",
    "    y_hat = modelo_fit.predict(X)\n",
    "\n",
    "    print(f'''\n",
    "    Model: {modelo}\n",
    "    MAE: {mean_absolute_error(y_true=y, y_pred=y_hat).round(4)}\n",
    "    R2: {r2_score(y_true=y, y_pred=y_hat).round(4)}\n",
    "    --------------------------------------------''')\n",
    "   "
   ]
  },
  {
   "cell_type": "code",
   "execution_count": 37,
   "metadata": {},
   "outputs": [
    {
     "name": "stdout",
     "output_type": "stream",
     "text": [
      "\n",
      "Model: ElasticNetCV()\n",
      "MAE: 0.732\n",
      "R2: 0.15\n",
      "---------------------------------------------------\n",
      "\n",
      "Model: LinearRegression()\n",
      "MAE: 0.459\n",
      "R2: 0.567\n",
      "---------------------------------------------------\n"
     ]
    }
   ],
   "source": [
    "for modelo in modelos_lista:\n",
    "    probar_modelos(modelo, df_modelo,y)\n",
    "\n",
    "###   Tiempo de ejecución estimado (todos los 7 modelos) = 15 minutos"
   ]
  },
  {
   "cell_type": "code",
   "execution_count": 90,
   "metadata": {},
   "outputs": [],
   "source": [
    "estimadores = [\n",
    "        ('lr',LinearRegression()),\n",
    "        ('DT',DecisionTreeRegressor()),\n",
    "        ('RF',RandomForestRegressor()),\n",
    "        ('GB',GradientBoostingRegressor())\n",
    "        ]"
   ]
  },
  {
   "cell_type": "code",
   "execution_count": 91,
   "metadata": {},
   "outputs": [],
   "source": [
    "modelo_voting = VotingRegressor(estimators=estimadores,\n",
    "                                verbose=True,\n",
    "                                n_jobs=-1\n",
    "                                )"
   ]
  },
  {
   "cell_type": "code",
   "execution_count": 92,
   "metadata": {},
   "outputs": [
    {
     "name": "stdout",
     "output_type": "stream",
     "text": [
      "VotingRegressor(estimators=[('lr', LinearRegression()),\n",
      "                            ('DT', DecisionTreeRegressor()),\n",
      "                            ('RF', RandomForestRegressor()),\n",
      "                            ('GB', GradientBoostingRegressor())],\n",
      "                n_jobs=-1, verbose=True)\n",
      "MAE: 0.27029151975681937\n",
      "R2: 0.8611765840851258\n",
      "---------------------------------------------------\n"
     ]
    }
   ],
   "source": [
    "probar_modelos(modelo_voting, df_modelo,y)"
   ]
  },
  {
   "attachments": {},
   "cell_type": "markdown",
   "metadata": {},
   "source": [
    "## 5.2 .- Modelos seleccionados"
   ]
  },
  {
   "attachments": {},
   "cell_type": "markdown",
   "metadata": {},
   "source": [
    "* LinearRegression()\n",
    "* DecisionTreeRegressor()\n",
    "* RandomForestRegressor()\n",
    "* GradientBoostingRegressor()\n",
    "* VotingRegressor()"
   ]
  },
  {
   "attachments": {},
   "cell_type": "markdown",
   "metadata": {},
   "source": [
    "# NOTAS"
   ]
  },
  {
   "cell_type": "code",
   "execution_count": 101,
   "metadata": {},
   "outputs": [
    {
     "data": {
      "text/plain": [
       "1.67"
      ]
     },
     "execution_count": 101,
     "metadata": {},
     "output_type": "execute_result"
    }
   ],
   "source": [
    "min(df_clean['rating'].value_counts().index)"
   ]
  },
  {
   "cell_type": "code",
   "execution_count": 102,
   "metadata": {},
   "outputs": [
    {
     "data": {
      "text/plain": [
       "10.0"
      ]
     },
     "execution_count": 102,
     "metadata": {},
     "output_type": "execute_result"
    }
   ],
   "source": [
    "max(df_clean['rating'].value_counts().index)"
   ]
  },
  {
   "attachments": {},
   "cell_type": "markdown",
   "metadata": {},
   "source": [
    "mae no mayor a 10\n",
    "r2 mayor a 10 \n",
    "rmse comparar con otros modelos. "
   ]
  },
  {
   "cell_type": "code",
   "execution_count": null,
   "metadata": {},
   "outputs": [],
   "source": []
  },
  {
   "attachments": {},
   "cell_type": "markdown",
   "metadata": {},
   "source": [
    "5.X .- Calculo del Código del \"Information Value\" (IV)"
   ]
  },
  {
   "cell_type": "code",
   "execution_count": null,
   "metadata": {},
   "outputs": [],
   "source": [
    "def calculate_iv(df, feature, target):\n",
    "    \"\"\"\n",
    "    Calculate the information value (IV) of a feature in a dataset.\n",
    "    \n",
    "    Parameters:\n",
    "    df (pandas.DataFrame): the dataset\n",
    "    feature (str): the name of the feature to calculate IV for\n",
    "    target (str): the name of the target variable\n",
    "    \n",
    "    Returns:\n",
    "    float: the information value (IV) of the feature\n",
    "    \"\"\"\n",
    "    df = df[[feature, target]]\n",
    "    df = df.dropna()\n",
    "    n = df.shape[0]\n",
    "    good = df[target].sum()\n",
    "    bad = n - good\n",
    "    unique_values = df[feature].unique()\n",
    "    iv = 0\n",
    "    for value in unique_values:\n",
    "        n1 = df[df[feature] == value].shape[0]\n",
    "        good1 = df[(df[feature] == value) & (df[target] == 1)].shape[0]\n",
    "        bad1 = n1 - good1\n",
    "        if good1 == 0 or bad1 == 0:\n",
    "            continue\n",
    "        woe = np.log((good1 / good) / (bad1 / bad))\n",
    "        iv += (good1 / good - bad1 / bad) * woe\n",
    "    return iv"
   ]
  },
  {
   "cell_type": "code",
   "execution_count": null,
   "metadata": {},
   "outputs": [],
   "source": []
  },
  {
   "attachments": {},
   "cell_type": "markdown",
   "metadata": {},
   "source": [
    "#  <span style=\"color:green\"> ***Comentarios finales:*** </span>"
   ]
  },
  {
   "cell_type": "markdown",
   "metadata": {},
   "source": []
  }
 ],
 "metadata": {
  "kernelspec": {
   "display_name": "numpy23",
   "language": "python",
   "name": "python3"
  },
  "language_info": {
   "codemirror_mode": {
    "name": "ipython",
    "version": 3
   },
   "file_extension": ".py",
   "mimetype": "text/x-python",
   "name": "python",
   "nbconvert_exporter": "python",
   "pygments_lexer": "ipython3",
   "version": "3.11.3"
  },
  "orig_nbformat": 4
 },
 "nbformat": 4,
 "nbformat_minor": 2
}
