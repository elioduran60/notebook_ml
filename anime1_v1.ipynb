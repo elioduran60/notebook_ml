{
 "cells": [
  {
   "attachments": {},
   "cell_type": "markdown",
   "metadata": {},
   "source": [
    "# <span style=\"color:orange\"> **Anime 1: Estimación de ratings en animes**"
   ]
  },
  {
   "attachments": {},
   "cell_type": "markdown",
   "metadata": {},
   "source": [
    "## <span style=\"color:#87CEEB\"> **1.- Resumen**\n",
    "### <span style=\"color:#87CEEB\"> Resumen del caso: La empresa nos pide crear un sistema que ayude aestimar el puntaje que una serie/película debería tener dadas sus características.\n",
    "\n",
    "    Vector Objetivo: Variable 'rating'.\n",
    "\n",
    "    Data set usado en el modelo: df_anime.\n",
    "\n",
    "    1. anime.csv (caracteristicas de los animes)\n",
    "        * anime_id: Identificador único del anime.\n",
    "        * name: Nombre completo del anime.\n",
    "        * genre: Lista de géneros (separados por coma) en el que califica el anime.\n",
    "        * type: Tipo de presentación del anime, puede ser: movie, TV, OVA, etc.\n",
    "        * episodes: Número de episodios del anime (1 para el caso películas).\n",
    "        * rating: Evaluación promedio del anime.\n",
    "        * members: Número de miembros de la comunidad que están en el “grupo” del anime."
   ]
  },
  {
   "attachments": {},
   "cell_type": "markdown",
   "metadata": {},
   "source": [
    "## <span style=\"color:#87CEEB\"> **2.- Aspectos computacionales**"
   ]
  },
  {
   "attachments": {},
   "cell_type": "markdown",
   "metadata": {},
   "source": [
    "### <span style=\"color:#87CEEB\"> 2.1.- Librerías"
   ]
  },
  {
   "cell_type": "code",
   "execution_count": 1,
   "metadata": {},
   "outputs": [],
   "source": [
    "# Ingesta\n",
    "import numpy as np\n",
    "import pandas as pd\n",
    "import scipy.stats as stats\n",
    "\n",
    "# Preprocesamiento\n",
    "from sklearn.impute import SimpleImputer\n",
    "\n",
    "# Visualización\n",
    "import matplotlib.pyplot as plt\n",
    "%matplotlib inline\n",
    "import seaborn as sns\n",
    "plt.style.use(\"seaborn-v0_8-whitegrid\")\n",
    "\n",
    "# Modelación\n",
    "import statsmodels.formula.api as smf\n",
    "from sklearn.model_selection import train_test_split\n",
    "from sklearn.model_selection import GridSearchCV\n",
    "from sklearn.linear_model import ElasticNetCV\n",
    "from sklearn.linear_model import LinearRegression\n",
    "from sklearn.svm import SVR\n",
    "from sklearn.tree import DecisionTreeRegressor\n",
    "from sklearn.ensemble import RandomForestRegressor\n",
    "from sklearn.ensemble import AdaBoostRegressor\n",
    "from sklearn.ensemble import GradientBoostingRegressor\n",
    "from sklearn.ensemble import VotingRegressor\n",
    "\n",
    "# Métricas de evaluación\n",
    "from sklearn.metrics import mean_absolute_error, r2_score\n",
    "\n",
    "# Otros\n",
    "import pickle\n",
    "import warnings\n",
    "warnings.filterwarnings(\"ignore\")"
   ]
  },
  {
   "attachments": {},
   "cell_type": "markdown",
   "metadata": {},
   "source": [
    "### <span style=\"color:#87CEEB\"> 2.2.- Funciones"
   ]
  },
  {
   "cell_type": "code",
   "execution_count": 2,
   "metadata": {},
   "outputs": [],
   "source": [
    "def estudio_nulos(data, simbolo):\n",
    "    ''' \n",
    "    [resumen]: Imprime cantidad de datos perdidos en cada columna y devuelve listas,\n",
    "                todo en base al símbolo proporcionado\n",
    "    [data]: DataFrame\n",
    "    [simbolo]: Carácter, string, valor a buscar como nulo o perdido\n",
    "    [return]: lista_sin_vacios, lista_con_vacios\n",
    "    '''\n",
    "    lista_sin_vacios = []\n",
    "    lista_con_vacios = []\n",
    "    for i in data.columns:\n",
    "        try:\n",
    "            print(f'{i}: {data[i].value_counts()[simbolo]}')\n",
    "            lista_con_vacios.append(i)\n",
    "        except:\n",
    "            lista_sin_vacios.append(i)\n",
    "    return lista_sin_vacios, lista_con_vacios"
   ]
  },
  {
   "cell_type": "code",
   "execution_count": 3,
   "metadata": {},
   "outputs": [],
   "source": [
    "# conteo de np.nan\n",
    "def porcentaje_nulos(data, lista_nulos):\n",
    "    ''' \n",
    "    Ingresa una data y una lista de columnas\n",
    "    para imprimir los % de nan por columnas, y el total por líneas       \n",
    "    '''\n",
    "    print('Porcentaje de nulos:')\n",
    "    print('-'*28)\n",
    "    for col in lista_nulos:\n",
    "        nulos = data[col].isnull().value_counts('%')\n",
    "        try:\n",
    "            nulos = nulos[True]*100\n",
    "            print(f'{col}: {np.round(nulos, 4)} %')\n",
    "        except:\n",
    "            print(f'{col}: No contiene nulos')\n",
    "\n",
    "    tmp_drop = data.dropna().copy()\n",
    "    porcion_nulos = (1-(tmp_drop.shape[0]/data.shape[0]))*100\n",
    "    print('-'*28, f'\\nPorcentaje total de nulos en el dataset: {np.round(porcion_nulos, 4)} %')"
   ]
  },
  {
   "cell_type": "code",
   "execution_count": 4,
   "metadata": {},
   "outputs": [],
   "source": [
    "# ajuste de modelos, predicciones y métricas\n",
    "def probar_modelos(modelo, X, y):\n",
    "    '''\n",
    "    [resumen]: modela, predice e imprime resultados MAE y R2\n",
    "    [modelo]: modelo de sklearn\n",
    "    [X]: matriz de atributos\n",
    "    [y]: Vector objetivo\n",
    "    [return]: none \n",
    "    '''\n",
    "    modelo_fit = modelo.fit(X, y)\n",
    "    y_hat = modelo_fit.predict(X)\n",
    "\n",
    "    print(f'{modelo}','\\n',\n",
    "        f'MAE: {mean_absolute_error(y_true=y, y_pred=y_hat)}','\\n',\n",
    "        f'R2: {r2_score(y_true=y, y_pred=y_hat)}', '\\n', '-'*50)"
   ]
  },
  {
   "attachments": {},
   "cell_type": "markdown",
   "metadata": {},
   "source": [
    "## <span style=\"color:#87CEEB\"> **3.- Ingeniería de Datos**"
   ]
  },
  {
   "attachments": {},
   "cell_type": "markdown",
   "metadata": {},
   "source": [
    "### <span style=\"color:#87CEEB\"> 3.1.- Importación de datos"
   ]
  },
  {
   "cell_type": "code",
   "execution_count": 20,
   "metadata": {},
   "outputs": [],
   "source": [
    "# importación de base de datos\n",
    "df = pd.read_csv('/Users/elio1/Dataset_csv/anime.csv', delimiter=';')"
   ]
  },
  {
   "cell_type": "code",
   "execution_count": 21,
   "metadata": {},
   "outputs": [
    {
     "data": {
      "text/html": [
       "<div>\n",
       "<style scoped>\n",
       "    .dataframe tbody tr th:only-of-type {\n",
       "        vertical-align: middle;\n",
       "    }\n",
       "\n",
       "    .dataframe tbody tr th {\n",
       "        vertical-align: top;\n",
       "    }\n",
       "\n",
       "    .dataframe thead th {\n",
       "        text-align: right;\n",
       "    }\n",
       "</style>\n",
       "<table border=\"1\" class=\"dataframe\">\n",
       "  <thead>\n",
       "    <tr style=\"text-align: right;\">\n",
       "      <th></th>\n",
       "      <th>anime_id</th>\n",
       "      <th>name</th>\n",
       "      <th>genre</th>\n",
       "      <th>type</th>\n",
       "      <th>episodes</th>\n",
       "      <th>rating</th>\n",
       "      <th>members</th>\n",
       "    </tr>\n",
       "  </thead>\n",
       "  <tbody>\n",
       "    <tr>\n",
       "      <th>0</th>\n",
       "      <td>32281</td>\n",
       "      <td>Kimi no Na wa.</td>\n",
       "      <td>Drama, Romance, School, Supernatural</td>\n",
       "      <td>Movie</td>\n",
       "      <td>1</td>\n",
       "      <td>9,37</td>\n",
       "      <td>200630</td>\n",
       "    </tr>\n",
       "    <tr>\n",
       "      <th>1</th>\n",
       "      <td>5114</td>\n",
       "      <td>Fullmetal Alchemist: Brotherhood</td>\n",
       "      <td>Action, Adventure, Drama, Fantasy, Magic, Mili...</td>\n",
       "      <td>TV</td>\n",
       "      <td>64</td>\n",
       "      <td>9,26</td>\n",
       "      <td>793665</td>\n",
       "    </tr>\n",
       "    <tr>\n",
       "      <th>2</th>\n",
       "      <td>28977</td>\n",
       "      <td>Gintama°</td>\n",
       "      <td>Action, Comedy, Historical, Parody, Samurai, S...</td>\n",
       "      <td>TV</td>\n",
       "      <td>51</td>\n",
       "      <td>9,25</td>\n",
       "      <td>114262</td>\n",
       "    </tr>\n",
       "    <tr>\n",
       "      <th>3</th>\n",
       "      <td>9253</td>\n",
       "      <td>Steins;Gate</td>\n",
       "      <td>Sci-Fi, Thriller</td>\n",
       "      <td>TV</td>\n",
       "      <td>24</td>\n",
       "      <td>9,17</td>\n",
       "      <td>673572</td>\n",
       "    </tr>\n",
       "    <tr>\n",
       "      <th>4</th>\n",
       "      <td>9969</td>\n",
       "      <td>Gintama&amp;#039;</td>\n",
       "      <td>Action, Comedy, Historical, Parody, Samurai, S...</td>\n",
       "      <td>TV</td>\n",
       "      <td>51</td>\n",
       "      <td>9,16</td>\n",
       "      <td>151266</td>\n",
       "    </tr>\n",
       "  </tbody>\n",
       "</table>\n",
       "</div>"
      ],
      "text/plain": [
       "   anime_id                              name  \\\n",
       "0     32281                    Kimi no Na wa.   \n",
       "1      5114  Fullmetal Alchemist: Brotherhood   \n",
       "2     28977                          Gintama°   \n",
       "3      9253                       Steins;Gate   \n",
       "4      9969                     Gintama&#039;   \n",
       "\n",
       "                                               genre   type episodes rating  \\\n",
       "0               Drama, Romance, School, Supernatural  Movie        1   9,37   \n",
       "1  Action, Adventure, Drama, Fantasy, Magic, Mili...     TV       64   9,26   \n",
       "2  Action, Comedy, Historical, Parody, Samurai, S...     TV       51   9,25   \n",
       "3                                   Sci-Fi, Thriller     TV       24   9,17   \n",
       "4  Action, Comedy, Historical, Parody, Samurai, S...     TV       51   9,16   \n",
       "\n",
       "   members  \n",
       "0   200630  \n",
       "1   793665  \n",
       "2   114262  \n",
       "3   673572  \n",
       "4   151266  "
      ]
     },
     "metadata": {},
     "output_type": "display_data"
    },
    {
     "data": {
      "text/plain": [
       "(12294, 7)"
      ]
     },
     "execution_count": 21,
     "metadata": {},
     "output_type": "execute_result"
    }
   ],
   "source": [
    "# Visualización simple de dataframe\n",
    "display(df.head())\n",
    "df.shape"
   ]
  },
  {
   "attachments": {},
   "cell_type": "markdown",
   "metadata": {},
   "source": [
    "### <span style=\"color:#87CEEB\"> 3.2.- Comportamiento del vector objetivo"
   ]
  },
  {
   "cell_type": "code",
   "execution_count": 22,
   "metadata": {},
   "outputs": [
    {
     "data": {
      "text/plain": [
       "dtype('O')"
      ]
     },
     "execution_count": 22,
     "metadata": {},
     "output_type": "execute_result"
    }
   ],
   "source": [
    "# tipo de dato\n",
    "df['rating'].dtypes"
   ]
  },
  {
   "attachments": {},
   "cell_type": "markdown",
   "metadata": {},
   "source": [
    "    El vector objetivo presenta valores numéricos pero su tipo de dato es 'objeto'."
   ]
  },
  {
   "cell_type": "code",
   "execution_count": 24,
   "metadata": {},
   "outputs": [
    {
     "data": {
      "text/plain": [
       "array([' 9,37', ' 9,26', ' 9,25', ' 9,17', ' 9,16', ' 9,15', ' 9,13',\n",
       "       ' 9,11', ' 9,10', ' 9,06', ' 9,05', ' 9,04', ' 8,98', ' 8,93',\n",
       "       ' 8,92', ' 8,88', ' 8,84', ' 8,83', ' 8,82', ' 8,81'], dtype=object)"
      ]
     },
     "execution_count": 24,
     "metadata": {},
     "output_type": "execute_result"
    }
   ],
   "source": [
    "# visualización de algunos valores del vector objetivo\n",
    "df['rating'].unique()[:20]"
   ]
  },
  {
   "cell_type": "code",
   "execution_count": 25,
   "metadata": {},
   "outputs": [
    {
     "data": {
      "text/plain": [
       "599"
      ]
     },
     "execution_count": 25,
     "metadata": {},
     "output_type": "execute_result"
    }
   ],
   "source": [
    "# cantidad de valores únicos en el vector objetivo\n",
    "len(df['rating'].unique())"
   ]
  },
  {
   "cell_type": "code",
   "execution_count": 26,
   "metadata": {},
   "outputs": [
    {
     "data": {
      "text/plain": [
       "array([9.37, 9.26, 9.25, 9.17, 9.16, 9.15, 9.13, 9.11, 9.1 , 9.06])"
      ]
     },
     "execution_count": 26,
     "metadata": {},
     "output_type": "execute_result"
    }
   ],
   "source": [
    "# tranformación de tipo de dato de 'str' a 'float'\n",
    "df['rating'] = df['rating'].str.replace(',', '.').astype(float)\n",
    "\n",
    "# Comprobación de transformación correcta\n",
    "df['rating'].unique()[:10]"
   ]
  },
  {
   "attachments": {},
   "cell_type": "markdown",
   "metadata": {},
   "source": [
    "#### <span style=\"color:orange\"> Cantidad de nulos en el vector objetivo"
   ]
  },
  {
   "cell_type": "code",
   "execution_count": 27,
   "metadata": {},
   "outputs": [
    {
     "name": "stdout",
     "output_type": "stream",
     "text": [
      "Cantidad:\n",
      " False    12064\n",
      "True       230\n",
      "Name: rating, dtype: int64 \n",
      " ------------------------------\n",
      "Porcentaje:\n",
      " False    98.13\n",
      "True      1.87\n",
      "Name: rating, dtype: float64\n"
     ]
    }
   ],
   "source": [
    "# cantidad de datos nulos en vector objetivo\n",
    "print('Cantidad:\\n', df['rating'].isna().value_counts(),'\\n','-'*30)\n",
    "print('Porcentaje:\\n', df['rating'].isna().value_counts('%').round(4)*100)"
   ]
  },
  {
   "attachments": {},
   "cell_type": "markdown",
   "metadata": {},
   "source": [
    "    Se observa que el vector objetivo presenta 230 valores nulos. Estos serán separados del dataframe original y se utilizarán más adelante como muestra a predecir una vez se haya encontrado un modelo eficaz.\n",
    "    En etapas posteriores se realizará este proceso."
   ]
  },
  {
   "attachments": {},
   "cell_type": "markdown",
   "metadata": {},
   "source": [
    "#### <span style=\"color:orange\"> Distribución del vector objetivo"
   ]
  },
  {
   "cell_type": "code",
   "execution_count": 28,
   "metadata": {},
   "outputs": [
    {
     "data": {
      "image/png": "[encoded data removed]",
      "text/plain": [
       "<Figure size 800x400 with 1 Axes>"
      ]
     },
     "metadata": {},
     "output_type": "display_data"
    }
   ],
   "source": [
    "plt.figure(figsize=(8, 4))\n",
    "sns.histplot(df['rating'], kde=True)\n",
    "plt.axvline(df['rating'].mean(), color='darkorange', linestyle='--', label='Media')\n",
    "plt.axvline(df['rating'].max(), color='red', linestyle='--', label='Máximo')\n",
    "plt.axvline(df['rating'].min(), color='magenta', linestyle='--', label='Mínimo')\n",
    "plt.legend(loc='upper right')\n",
    "plt.title(\"Vector objetivo 'rating'\")\n",
    "plt.ylabel('Observaciones')\n",
    "plt.xticks(range(1, 11));"
   ]
  },
  {
   "cell_type": "code",
   "execution_count": 33,
   "metadata": {},
   "outputs": [],
   "source": [
    "x = stats.mode(df['rating'])"
   ]
  },
  {
   "cell_type": "code",
   "execution_count": 35,
   "metadata": {},
   "outputs": [
    {
     "data": {
      "image/png": "[encoded data removed]",
      "text/plain": [
       "<Figure size 800x400 with 1 Axes>"
      ]
     },
     "metadata": {},
     "output_type": "display_data"
    }
   ],
   "source": [
    "plt.figure(figsize=(8, 4))\n",
    "sns.histplot(df['rating'], kde=True)\n",
    "plt.axvline(df['rating'].mean(), color='darkorange', linestyle='--', label='Media')\n",
    "plt.axvline(df['rating'].median(), color='red', linestyle='--', label='Mediana')\n",
    "#plt.axvline(stats.mode(x), color='magenta', linestyle='--', label='Moda')\n",
    "plt.legend(loc='upper right')\n",
    "plt.title(\"Vector objetivo 'rating'\")\n",
    "plt.ylabel('Observaciones')\n",
    "plt.xticks(range(1, 11));"
   ]
  },
  {
   "attachments": {},
   "cell_type": "markdown",
   "metadata": {},
   "source": [
    "    Se observa una distribución de las valoraciones similar a la normal, con una leve tendencia a puntajes sobre la media."
   ]
  },
  {
   "attachments": {},
   "cell_type": "markdown",
   "metadata": {},
   "source": [
    "##### <span style=\"color:orange\"> Estadísticas descriptivas del vector objetivo"
   ]
  },
  {
   "cell_type": "code",
   "execution_count": 13,
   "metadata": {},
   "outputs": [
    {
     "data": {
      "text/plain": [
       "count    12064.000000\n",
       "mean         6.473902\n",
       "std          1.026746\n",
       "min          1.670000\n",
       "25%          5.880000\n",
       "50%          6.570000\n",
       "75%          7.180000\n",
       "max         10.000000\n",
       "Name: rating, dtype: float64"
      ]
     },
     "execution_count": 13,
     "metadata": {},
     "output_type": "execute_result"
    }
   ],
   "source": [
    "df['rating'].describe()"
   ]
  },
  {
   "attachments": {},
   "cell_type": "markdown",
   "metadata": {},
   "source": [
    "### <span style=\"color:#87CEEB\"> 3.3.- Comportamiento de los atributos"
   ]
  },
  {
   "attachments": {},
   "cell_type": "markdown",
   "metadata": {},
   "source": [
    "#### <span style=\"color:#87CEEB\"> 3.3.1.- Variable 'name'"
   ]
  },
  {
   "attachments": {},
   "cell_type": "markdown",
   "metadata": {},
   "source": [
    "##### <span style=\"color:orange\"> Cantidad de nombres de anime"
   ]
  },
  {
   "cell_type": "code",
   "execution_count": 14,
   "metadata": {},
   "outputs": [
    {
     "name": "stdout",
     "output_type": "stream",
     "text": [
      "Cantidad total de observaciones en name: 12294\n",
      "Cantidad de valores únicos en name: 12292\n"
     ]
    },
    {
     "data": {
      "text/plain": [
       "Shi Wan Ge Leng Xiaohua                           2\n",
       "Saru Kani Gassen                                  2\n",
       "Bakabon Osomatsu no Karee wo Tazunete Sansenri    1\n",
       "Backkom Meogeujan Yeohaeng                        1\n",
       "Backkom Mission Impossible                        1\n",
       "                                                 ..\n",
       "Yoroiden Samurai Troopers Kikoutei Densetsu       1\n",
       "Yuu☆Yuu☆Hakusho: Mu Mu Hakusho                    1\n",
       "3-gatsu no Lion meets Bump of Chicken             1\n",
       "Bannou Bunka Neko-Musume                          1\n",
       "Yasuji no Pornorama: Yacchimae!!                  1\n",
       "Name: name, Length: 12292, dtype: int64"
      ]
     },
     "execution_count": 14,
     "metadata": {},
     "output_type": "execute_result"
    }
   ],
   "source": [
    "# Cantidad de nombres de anime\n",
    "print('Cantidad total de observaciones en name:', len(df['name']))\n",
    "print('Cantidad de valores únicos en name:', len(df['name'].unique()))\n",
    "df['name'].value_counts()"
   ]
  },
  {
   "cell_type": "code",
   "execution_count": 15,
   "metadata": {},
   "outputs": [
    {
     "data": {
      "text/html": [
       "<div>\n",
       "<style scoped>\n",
       "    .dataframe tbody tr th:only-of-type {\n",
       "        vertical-align: middle;\n",
       "    }\n",
       "\n",
       "    .dataframe tbody tr th {\n",
       "        vertical-align: top;\n",
       "    }\n",
       "\n",
       "    .dataframe thead th {\n",
       "        text-align: right;\n",
       "    }\n",
       "</style>\n",
       "<table border=\"1\" class=\"dataframe\">\n",
       "  <thead>\n",
       "    <tr style=\"text-align: right;\">\n",
       "      <th></th>\n",
       "      <th>anime_id</th>\n",
       "      <th>name</th>\n",
       "      <th>genre</th>\n",
       "      <th>type</th>\n",
       "      <th>episodes</th>\n",
       "      <th>rating</th>\n",
       "      <th>members</th>\n",
       "    </tr>\n",
       "  </thead>\n",
       "  <tbody>\n",
       "    <tr>\n",
       "      <th>10193</th>\n",
       "      <td>33193</td>\n",
       "      <td>Shi Wan Ge Leng Xiaohua</td>\n",
       "      <td>Comedy, Parody</td>\n",
       "      <td>ONA</td>\n",
       "      <td>12</td>\n",
       "      <td>6.67</td>\n",
       "      <td>114</td>\n",
       "    </tr>\n",
       "    <tr>\n",
       "      <th>10194</th>\n",
       "      <td>33195</td>\n",
       "      <td>Shi Wan Ge Leng Xiaohua</td>\n",
       "      <td>Action, Adventure, Comedy, Fantasy, Parody</td>\n",
       "      <td>Movie</td>\n",
       "      <td>1</td>\n",
       "      <td>7.07</td>\n",
       "      <td>110</td>\n",
       "    </tr>\n",
       "  </tbody>\n",
       "</table>\n",
       "</div>"
      ],
      "text/plain": [
       "       anime_id                     name  \\\n",
       "10193     33193  Shi Wan Ge Leng Xiaohua   \n",
       "10194     33195  Shi Wan Ge Leng Xiaohua   \n",
       "\n",
       "                                            genre   type episodes  rating  \\\n",
       "10193                              Comedy, Parody    ONA       12    6.67   \n",
       "10194  Action, Adventure, Comedy, Fantasy, Parody  Movie        1    7.07   \n",
       "\n",
       "       members  \n",
       "10193      114  \n",
       "10194      110  "
      ]
     },
     "metadata": {},
     "output_type": "display_data"
    },
    {
     "data": {
      "text/html": [
       "<div>\n",
       "<style scoped>\n",
       "    .dataframe tbody tr th:only-of-type {\n",
       "        vertical-align: middle;\n",
       "    }\n",
       "\n",
       "    .dataframe tbody tr th {\n",
       "        vertical-align: top;\n",
       "    }\n",
       "\n",
       "    .dataframe thead th {\n",
       "        text-align: right;\n",
       "    }\n",
       "</style>\n",
       "<table border=\"1\" class=\"dataframe\">\n",
       "  <thead>\n",
       "    <tr style=\"text-align: right;\">\n",
       "      <th></th>\n",
       "      <th>anime_id</th>\n",
       "      <th>name</th>\n",
       "      <th>genre</th>\n",
       "      <th>type</th>\n",
       "      <th>episodes</th>\n",
       "      <th>rating</th>\n",
       "      <th>members</th>\n",
       "    </tr>\n",
       "  </thead>\n",
       "  <tbody>\n",
       "    <tr>\n",
       "      <th>10140</th>\n",
       "      <td>22399</td>\n",
       "      <td>Saru Kani Gassen</td>\n",
       "      <td>Kids</td>\n",
       "      <td>OVA</td>\n",
       "      <td>1</td>\n",
       "      <td>5.23</td>\n",
       "      <td>62</td>\n",
       "    </tr>\n",
       "    <tr>\n",
       "      <th>10141</th>\n",
       "      <td>30059</td>\n",
       "      <td>Saru Kani Gassen</td>\n",
       "      <td>Drama</td>\n",
       "      <td>Movie</td>\n",
       "      <td>1</td>\n",
       "      <td>4.75</td>\n",
       "      <td>76</td>\n",
       "    </tr>\n",
       "  </tbody>\n",
       "</table>\n",
       "</div>"
      ],
      "text/plain": [
       "       anime_id              name  genre   type episodes  rating  members\n",
       "10140     22399  Saru Kani Gassen   Kids    OVA        1    5.23       62\n",
       "10141     30059  Saru Kani Gassen  Drama  Movie        1    4.75       76"
      ]
     },
     "metadata": {},
     "output_type": "display_data"
    }
   ],
   "source": [
    "display(df[df['name'] == 'Shi Wan Ge Leng Xiaohua'])\n",
    "display(df[df['name'] == 'Saru Kani Gassen'])"
   ]
  },
  {
   "attachments": {},
   "cell_type": "markdown",
   "metadata": {},
   "source": [
    "    Se observa que 'Shi Wan Ge Leng Xiaohua' y 'Saru Kani Gassen' tienen dos observaciones cada uno, pero se diferencian en el tipo de anime. Debido a esto el atributo 'name' tiene una cantidad total de 12294 observaciones pero 12292 valores únicos."
   ]
  },
  {
   "attachments": {},
   "cell_type": "markdown",
   "metadata": {},
   "source": [
    "##### <span style=\"color:orange\"> Cantidad de nulos en 'name'"
   ]
  },
  {
   "cell_type": "code",
   "execution_count": 16,
   "metadata": {},
   "outputs": [
    {
     "name": "stdout",
     "output_type": "stream",
     "text": [
      "Cantidad:\n",
      " False    12294\n",
      "Name: name, dtype: int64 \n",
      " ------------------------------\n",
      "Porcentaje:\n",
      " False    100.0\n",
      "Name: name, dtype: float64\n"
     ]
    }
   ],
   "source": [
    "# cantidad de datos nulos en 'name'\n",
    "print('Cantidad:\\n', df['name'].isna().value_counts(),'\\n','-'*30)\n",
    "print('Porcentaje:\\n', df['name'].isna().value_counts('%').round(4)*100)"
   ]
  },
  {
   "attachments": {},
   "cell_type": "markdown",
   "metadata": {},
   "source": [
    "    No existen datos nulos en la variable 'name'."
   ]
  },
  {
   "attachments": {},
   "cell_type": "markdown",
   "metadata": {},
   "source": [
    "#### <span style=\"color:#87CEEB\"> 3.3.2.- Variable 'genre'"
   ]
  },
  {
   "attachments": {},
   "cell_type": "markdown",
   "metadata": {},
   "source": [
    "##### <span style=\"color:orange\"> Géneros únicos de anime"
   ]
  },
  {
   "cell_type": "code",
   "execution_count": 17,
   "metadata": {},
   "outputs": [
    {
     "data": {
      "text/plain": [
       "Index(['Action', 'Adventure', 'Cars', 'Comedy', 'Dark Fantasy', 'Dementia',\n",
       "       'Demons', 'Drama', 'Ecchi', 'Fantasy', 'Game', 'Harem', 'Hentai',\n",
       "       'Historical', 'Horror', 'Idol', 'Josei', 'Kids', 'Magic',\n",
       "       'Martial Arts', 'Mecha', 'Military', 'Music', 'Mystery', 'Parody',\n",
       "       'Police', 'Psychological', 'Romance', 'Samurai', 'School', 'Sci-Fi',\n",
       "       'Sclice of Life', 'Seinen', 'Shoujo', 'Shoujo Ai', 'Shounen',\n",
       "       'Shounen Ai', 'Slice of Life', 'Space', 'Sports', 'Super Power',\n",
       "       'Supernatural', 'Thriller', 'Vampire', 'Yaoi', 'Yuri'],\n",
       "      dtype='object')"
      ]
     },
     "execution_count": 17,
     "metadata": {},
     "output_type": "execute_result"
    }
   ],
   "source": [
    "df['genre'].str.get_dummies(', ').columns"
   ]
  },
  {
   "attachments": {},
   "cell_type": "markdown",
   "metadata": {},
   "source": [
    "    Al separar de manera independiente todos los géneros existentes, se observa que existe una discrepancia para 'Slice of Life'. Es por esto que se implementa una recodificación para corregir este error."
   ]
  },
  {
   "cell_type": "code",
   "execution_count": 18,
   "metadata": {},
   "outputs": [
    {
     "data": {
      "text/plain": [
       "Index(['Action', 'Adventure', 'Cars', 'Comedy', 'Dark Fantasy', 'Dementia',\n",
       "       'Demons', 'Drama', 'Ecchi', 'Fantasy', 'Game', 'Harem', 'Hentai',\n",
       "       'Historical', 'Horror', 'Idol', 'Josei', 'Kids', 'Magic',\n",
       "       'Martial Arts', 'Mecha', 'Military', 'Music', 'Mystery', 'Parody',\n",
       "       'Police', 'Psychological', 'Romance', 'Samurai', 'School', 'Sci-Fi',\n",
       "       'Seinen', 'Shoujo', 'Shoujo Ai', 'Shounen', 'Shounen Ai',\n",
       "       'Slice of Life', 'Space', 'Sports', 'Super Power', 'Supernatural',\n",
       "       'Thriller', 'Vampire', 'Yaoi', 'Yuri'],\n",
       "      dtype='object')"
      ]
     },
     "execution_count": 18,
     "metadata": {},
     "output_type": "execute_result"
    }
   ],
   "source": [
    "# recodificación de 'Slice of Life'\n",
    "df['genre'] = df['genre'].str.replace('Sclice of Life', 'Slice of Life')\n",
    "\n",
    "# Comprobación de correcta recodificación\n",
    "df['genre'].str.get_dummies(', ').columns"
   ]
  },
  {
   "attachments": {},
   "cell_type": "markdown",
   "metadata": {},
   "source": [
    "##### <span style=\"color:orange\"> Combinaciones de géneros de anime"
   ]
  },
  {
   "cell_type": "code",
   "execution_count": 19,
   "metadata": {},
   "outputs": [
    {
     "name": "stdout",
     "output_type": "stream",
     "text": [
      "Cantidad de combinaciones de géneros:\n",
      " 3271\n"
     ]
    },
    {
     "data": {
      "text/plain": [
       "Hentai                                                    823\n",
       "Comedy                                                    523\n",
       "Music                                                     302\n",
       "Kids                                                      199\n",
       "Comedy, Slice of Life                                     179\n",
       "                                                         ... \n",
       "Historical, Mystery                                         1\n",
       "Drama, Fantasy, Mystery, Romance, Supernatural              1\n",
       "Comedy, Magic, Parody, Police, Sci-Fi, Shounen, Space       1\n",
       "Action, Comedy, Fantasy, Martial Arts, Shounen, Sports      1\n",
       "Hentai, Slice of Life                                       1\n",
       "Name: genre, Length: 3271, dtype: int64"
      ]
     },
     "execution_count": 19,
     "metadata": {},
     "output_type": "execute_result"
    }
   ],
   "source": [
    "# cantidad de combinaciones de géneros\n",
    "print('Cantidad de combinaciones de géneros:\\n', len(df['genre'].value_counts()))\n",
    "df['genre'].value_counts()"
   ]
  },
  {
   "attachments": {},
   "cell_type": "markdown",
   "metadata": {},
   "source": [
    "##### <span style=\"color:orange\"> Cantidad de nulos en 'genre'"
   ]
  },
  {
   "cell_type": "code",
   "execution_count": 20,
   "metadata": {},
   "outputs": [
    {
     "name": "stdout",
     "output_type": "stream",
     "text": [
      "Cantidad:\n",
      " False    12247\n",
      "True        47\n",
      "Name: genre, dtype: int64 \n",
      " ------------------------------\n",
      "Porcentaje:\n",
      " False    99.62\n",
      "True      0.38\n",
      "Name: genre, dtype: float64\n"
     ]
    }
   ],
   "source": [
    "# cantidad de datos nulos en 'genre'\n",
    "print('Cantidad:\\n', df['genre'].isna().value_counts(),'\\n','-'*30)\n",
    "print('Porcentaje:\\n', df['genre'].isna().value_counts('%').round(4)*100)"
   ]
  },
  {
   "attachments": {},
   "cell_type": "markdown",
   "metadata": {},
   "source": [
    "    Existen 47 datos nulos en 'genre' lo que equivale a 0.38% del total de datos."
   ]
  },
  {
   "attachments": {},
   "cell_type": "markdown",
   "metadata": {},
   "source": [
    "#### <span style=\"color:#87CEEB\"> 3.3.3.- Variable 'type'"
   ]
  },
  {
   "attachments": {},
   "cell_type": "markdown",
   "metadata": {},
   "source": [
    "##### <span style=\"color:orange\"> Tipos únicos de anime"
   ]
  },
  {
   "cell_type": "code",
   "execution_count": 21,
   "metadata": {},
   "outputs": [
    {
     "data": {
      "text/plain": [
       "array(['Movie', 'TV', 'OVA', 'Special', 'Music', 'ONA', nan], dtype=object)"
      ]
     },
     "execution_count": 21,
     "metadata": {},
     "output_type": "execute_result"
    }
   ],
   "source": [
    "df['type'].unique()"
   ]
  },
  {
   "attachments": {},
   "cell_type": "markdown",
   "metadata": {},
   "source": [
    "##### <span style=\"color:orange\"> Cantidad de tipos de anime"
   ]
  },
  {
   "cell_type": "code",
   "execution_count": 22,
   "metadata": {},
   "outputs": [
    {
     "data": {
      "text/plain": [
       "TV         3787\n",
       "OVA        3311\n",
       "Movie      2348\n",
       "Special    1676\n",
       "ONA         659\n",
       "Music       488\n",
       "Name: type, dtype: int64"
      ]
     },
     "execution_count": 22,
     "metadata": {},
     "output_type": "execute_result"
    }
   ],
   "source": [
    "df['type'].value_counts()"
   ]
  },
  {
   "attachments": {},
   "cell_type": "markdown",
   "metadata": {},
   "source": [
    "##### <span style=\"color:orange\"> Cantidad de nulos en 'type'"
   ]
  },
  {
   "cell_type": "code",
   "execution_count": 23,
   "metadata": {},
   "outputs": [
    {
     "name": "stdout",
     "output_type": "stream",
     "text": [
      "Cantidad:\n",
      " False    12269\n",
      "True        25\n",
      "Name: type, dtype: int64 \n",
      " ------------------------------\n",
      "Porcentaje:\n",
      " False    99.8\n",
      "True      0.2\n",
      "Name: type, dtype: float64\n"
     ]
    }
   ],
   "source": [
    "# cantidad de datos nulos en 'type'\n",
    "print('Cantidad:\\n', df['type'].isna().value_counts(),'\\n','-'*30)\n",
    "print('Porcentaje:\\n', df['type'].isna().value_counts('%').round(4)*100)"
   ]
  },
  {
   "attachments": {},
   "cell_type": "markdown",
   "metadata": {},
   "source": [
    "    Existen 25 datos nulos en 'type' lo que equivale a 0.2% del total de datos."
   ]
  },
  {
   "attachments": {},
   "cell_type": "markdown",
   "metadata": {},
   "source": [
    "#### <span style=\"color:#87CEEB\"> 3.3.4.- Variable 'episodes'"
   ]
  },
  {
   "attachments": {},
   "cell_type": "markdown",
   "metadata": {},
   "source": [
    "##### <span style=\"color:orange\"> Tipo de dato de 'episodes'"
   ]
  },
  {
   "cell_type": "code",
   "execution_count": 24,
   "metadata": {},
   "outputs": [
    {
     "data": {
      "text/plain": [
       "dtype('O')"
      ]
     },
     "metadata": {},
     "output_type": "display_data"
    },
    {
     "data": {
      "text/plain": [
       "array(['1', '64', '51', ..., '4', '1', '1'], dtype=object)"
      ]
     },
     "execution_count": 24,
     "metadata": {},
     "output_type": "execute_result"
    }
   ],
   "source": [
    "display(df['episodes'].dtype)\n",
    "df['episodes'].values"
   ]
  },
  {
   "cell_type": "code",
   "execution_count": 25,
   "metadata": {},
   "outputs": [
    {
     "data": {
      "text/plain": [
       "Unknown    340\n",
       "Name: episodes, dtype: int64"
      ]
     },
     "execution_count": 25,
     "metadata": {},
     "output_type": "execute_result"
    }
   ],
   "source": [
    "df['episodes'][df['episodes'] == 'Unknown'].value_counts()"
   ]
  },
  {
   "attachments": {},
   "cell_type": "markdown",
   "metadata": {},
   "source": [
    "    Se observó que el tipo de dato es 'str' y que además existe el valor 'Unknown'. Dado lo anterior se procede a cambiar el tipo de dato y recodificar los valores 'Unknown' como np.nan"
   ]
  },
  {
   "cell_type": "code",
   "execution_count": 26,
   "metadata": {},
   "outputs": [],
   "source": [
    "# Recodificación de 'Unknown' y transformación del tipo de dato\n",
    "df['episodes'] = np.where(df['episodes'] == 'Unknown', np.nan, df['episodes'])\n",
    "df['episodes'] = df['episodes'].astype(float)"
   ]
  },
  {
   "attachments": {},
   "cell_type": "markdown",
   "metadata": {},
   "source": [
    "##### <span style=\"color:orange\"> Estadísticas descriptivas de 'episodes'"
   ]
  },
  {
   "cell_type": "code",
   "execution_count": 27,
   "metadata": {},
   "outputs": [
    {
     "data": {
      "text/plain": [
       "count    11954.00\n",
       "mean        12.38\n",
       "std         46.87\n",
       "min          1.00\n",
       "25%          1.00\n",
       "50%          2.00\n",
       "75%         12.00\n",
       "max       1818.00\n",
       "Name: episodes, dtype: float64"
      ]
     },
     "execution_count": 27,
     "metadata": {},
     "output_type": "execute_result"
    }
   ],
   "source": [
    "df['episodes'].describe().round(2)"
   ]
  },
  {
   "attachments": {},
   "cell_type": "markdown",
   "metadata": {},
   "source": [
    "##### <span style=\"color:orange\"> Frecuencia de cantidad de episodios de anime"
   ]
  },
  {
   "cell_type": "code",
   "execution_count": 28,
   "metadata": {},
   "outputs": [
    {
     "data": {
      "text/plain": [
       "1.0      5677\n",
       "2.0      1076\n",
       "12.0      816\n",
       "13.0      572\n",
       "26.0      514\n",
       "         ... \n",
       "330.0       1\n",
       "291.0       1\n",
       "276.0       1\n",
       "120.0       1\n",
       "125.0       1\n",
       "Name: episodes, Length: 186, dtype: int64"
      ]
     },
     "execution_count": 28,
     "metadata": {},
     "output_type": "execute_result"
    }
   ],
   "source": [
    "df['episodes'].value_counts()"
   ]
  },
  {
   "attachments": {},
   "cell_type": "markdown",
   "metadata": {},
   "source": [
    "##### <span style=\"color:orange\"> Cantidad de nulos en 'episodes'"
   ]
  },
  {
   "cell_type": "code",
   "execution_count": 29,
   "metadata": {},
   "outputs": [
    {
     "name": "stdout",
     "output_type": "stream",
     "text": [
      "Cantidad:\n",
      " False    11954\n",
      "True       340\n",
      "Name: episodes, dtype: int64 \n",
      " ------------------------------\n",
      "Porcentaje:\n",
      " False    97.23\n",
      "True      2.77\n",
      "Name: episodes, dtype: float64\n"
     ]
    }
   ],
   "source": [
    "# cantidad de datos nulos en 'episodes'\n",
    "print('Cantidad:\\n', df['episodes'].isna().value_counts(),'\\n','-'*30)\n",
    "print('Porcentaje:\\n', df['episodes'].isna().value_counts('%').round(4)*100)"
   ]
  },
  {
   "attachments": {},
   "cell_type": "markdown",
   "metadata": {},
   "source": [
    "#### <span style=\"color:#87CEEB\"> 3.3.5.- Variable 'members'"
   ]
  },
  {
   "attachments": {},
   "cell_type": "markdown",
   "metadata": {},
   "source": [
    "##### <span style=\"color:orange\"> Tipo de dato de 'members'"
   ]
  },
  {
   "cell_type": "code",
   "execution_count": 30,
   "metadata": {},
   "outputs": [
    {
     "data": {
      "text/plain": [
       "dtype('int64')"
      ]
     },
     "metadata": {},
     "output_type": "display_data"
    },
    {
     "data": {
      "text/plain": [
       "array([200630, 793665, 114262, ...,    219,    175,    142], dtype=int64)"
      ]
     },
     "execution_count": 30,
     "metadata": {},
     "output_type": "execute_result"
    }
   ],
   "source": [
    "display(df['members'].dtype)\n",
    "df['members'].values"
   ]
  },
  {
   "attachments": {},
   "cell_type": "markdown",
   "metadata": {},
   "source": [
    "##### <span style=\"color:orange\"> Estadísticas descriptivas de 'members'"
   ]
  },
  {
   "cell_type": "code",
   "execution_count": 31,
   "metadata": {},
   "outputs": [
    {
     "data": {
      "text/plain": [
       "count      12294.00\n",
       "mean       18071.34\n",
       "std        54820.68\n",
       "min            5.00\n",
       "25%          225.00\n",
       "50%         1550.00\n",
       "75%         9437.00\n",
       "max      1013917.00\n",
       "Name: members, dtype: float64"
      ]
     },
     "execution_count": 31,
     "metadata": {},
     "output_type": "execute_result"
    }
   ],
   "source": [
    "df['members'].describe().round(2)"
   ]
  },
  {
   "attachments": {},
   "cell_type": "markdown",
   "metadata": {},
   "source": [
    "##### <span style=\"color:orange\"> Cantidad de nulos en 'members'"
   ]
  },
  {
   "cell_type": "code",
   "execution_count": 32,
   "metadata": {},
   "outputs": [
    {
     "name": "stdout",
     "output_type": "stream",
     "text": [
      "Cantidad:\n",
      " False    12294\n",
      "Name: members, dtype: int64 \n",
      " ------------------------------\n",
      "Porcentaje:\n",
      " False    100.0\n",
      "Name: members, dtype: float64\n"
     ]
    }
   ],
   "source": [
    "# cantidad de datos nulos en 'members'\n",
    "print('Cantidad:\\n', df['members'].isna().value_counts(),'\\n','-'*30)\n",
    "print('Porcentaje:\\n', df['members'].isna().value_counts('%').round(4)*100)"
   ]
  },
  {
   "attachments": {},
   "cell_type": "markdown",
   "metadata": {},
   "source": [
    "## <span style=\"color:#87CEEB\"> **4.- Tratamiento de datos nulos**"
   ]
  },
  {
   "attachments": {},
   "cell_type": "markdown",
   "metadata": {},
   "source": [
    "### <span style=\"color:#87CEEB\"> 4.1.- Imputación de nulos"
   ]
  },
  {
   "attachments": {},
   "cell_type": "markdown",
   "metadata": {},
   "source": [
    "#### <span style=\"color:#87CEEB\"> 4.1.1.- Porcentaje de nulos en el dataset"
   ]
  },
  {
   "cell_type": "code",
   "execution_count": 33,
   "metadata": {},
   "outputs": [
    {
     "name": "stdout",
     "output_type": "stream",
     "text": [
      "Porcentaje de nulos:\n",
      "----------------------------\n",
      "anime_id: No contiene nulos\n",
      "name: No contiene nulos\n",
      "genre: 0.3823 %\n",
      "type: 0.2034 %\n",
      "episodes: 2.7656 %\n",
      "rating: 1.8708 %\n",
      "members: No contiene nulos\n",
      "---------------------------- \n",
      "Porcentaje total de nulos en el dataset: 3.7742 %\n"
     ]
    }
   ],
   "source": [
    "# porcentaje de nulos en las variables\n",
    "porcentaje_nulos(df, df.columns)"
   ]
  },
  {
   "attachments": {},
   "cell_type": "markdown",
   "metadata": {},
   "source": [
    "#### <span style=\"color:#87CEEB\"> 4.1.2.- Imputación de nulos por la moda o más frecuente."
   ]
  },
  {
   "cell_type": "code",
   "execution_count": 34,
   "metadata": {},
   "outputs": [
    {
     "data": {
      "text/html": [
       "<div>\n",
       "<style scoped>\n",
       "    .dataframe tbody tr th:only-of-type {\n",
       "        vertical-align: middle;\n",
       "    }\n",
       "\n",
       "    .dataframe tbody tr th {\n",
       "        vertical-align: top;\n",
       "    }\n",
       "\n",
       "    .dataframe thead th {\n",
       "        text-align: right;\n",
       "    }\n",
       "</style>\n",
       "<table border=\"1\" class=\"dataframe\">\n",
       "  <thead>\n",
       "    <tr style=\"text-align: right;\">\n",
       "      <th></th>\n",
       "      <th>anime_id</th>\n",
       "      <th>name</th>\n",
       "      <th>genre</th>\n",
       "      <th>type</th>\n",
       "      <th>episodes</th>\n",
       "      <th>members</th>\n",
       "      <th>rating</th>\n",
       "    </tr>\n",
       "  </thead>\n",
       "  <tbody>\n",
       "    <tr>\n",
       "      <th>0</th>\n",
       "      <td>32281</td>\n",
       "      <td>Kimi no Na wa.</td>\n",
       "      <td>Drama, Romance, School, Supernatural</td>\n",
       "      <td>Movie</td>\n",
       "      <td>1.0</td>\n",
       "      <td>200630</td>\n",
       "      <td>9.37</td>\n",
       "    </tr>\n",
       "    <tr>\n",
       "      <th>1</th>\n",
       "      <td>5114</td>\n",
       "      <td>Fullmetal Alchemist: Brotherhood</td>\n",
       "      <td>Action, Adventure, Drama, Fantasy, Magic, Mili...</td>\n",
       "      <td>TV</td>\n",
       "      <td>64.0</td>\n",
       "      <td>793665</td>\n",
       "      <td>9.26</td>\n",
       "    </tr>\n",
       "    <tr>\n",
       "      <th>2</th>\n",
       "      <td>28977</td>\n",
       "      <td>Gintama°</td>\n",
       "      <td>Action, Comedy, Historical, Parody, Samurai, S...</td>\n",
       "      <td>TV</td>\n",
       "      <td>51.0</td>\n",
       "      <td>114262</td>\n",
       "      <td>9.25</td>\n",
       "    </tr>\n",
       "    <tr>\n",
       "      <th>3</th>\n",
       "      <td>9253</td>\n",
       "      <td>Steins;Gate</td>\n",
       "      <td>Sci-Fi, Thriller</td>\n",
       "      <td>TV</td>\n",
       "      <td>24.0</td>\n",
       "      <td>673572</td>\n",
       "      <td>9.17</td>\n",
       "    </tr>\n",
       "    <tr>\n",
       "      <th>4</th>\n",
       "      <td>9969</td>\n",
       "      <td>Gintama&amp;#039;</td>\n",
       "      <td>Action, Comedy, Historical, Parody, Samurai, S...</td>\n",
       "      <td>TV</td>\n",
       "      <td>51.0</td>\n",
       "      <td>151266</td>\n",
       "      <td>9.16</td>\n",
       "    </tr>\n",
       "  </tbody>\n",
       "</table>\n",
       "</div>"
      ],
      "text/plain": [
       "   anime_id                              name  \\\n",
       "0     32281                    Kimi no Na wa.   \n",
       "1      5114  Fullmetal Alchemist: Brotherhood   \n",
       "2     28977                          Gintama°   \n",
       "3      9253                       Steins;Gate   \n",
       "4      9969                     Gintama&#039;   \n",
       "\n",
       "                                               genre   type  episodes  \\\n",
       "0               Drama, Romance, School, Supernatural  Movie       1.0   \n",
       "1  Action, Adventure, Drama, Fantasy, Magic, Mili...     TV      64.0   \n",
       "2  Action, Comedy, Historical, Parody, Samurai, S...     TV      51.0   \n",
       "3                                   Sci-Fi, Thriller     TV      24.0   \n",
       "4  Action, Comedy, Historical, Parody, Samurai, S...     TV      51.0   \n",
       "\n",
       "   members  rating  \n",
       "0   200630    9.37  \n",
       "1   793665    9.26  \n",
       "2   114262    9.25  \n",
       "3   673572    9.17  \n",
       "4   151266    9.16  "
      ]
     },
     "execution_count": 34,
     "metadata": {},
     "output_type": "execute_result"
    }
   ],
   "source": [
    "df_imputado = df.drop('rating', axis=1).fillna(df.drop('rating', axis=1).mode().iloc[0])\n",
    "df_imputado = pd.concat([df_imputado, df['rating']], axis=1)\n",
    "df_imputado.head()"
   ]
  },
  {
   "cell_type": "code",
   "execution_count": 35,
   "metadata": {},
   "outputs": [
    {
     "name": "stdout",
     "output_type": "stream",
     "text": [
      "Porcentaje de nulos:\n",
      "----------------------------\n",
      "anime_id: No contiene nulos\n",
      "name: No contiene nulos\n",
      "genre: No contiene nulos\n",
      "type: No contiene nulos\n",
      "episodes: No contiene nulos\n",
      "rating: 1.8708 %\n",
      "members: No contiene nulos\n",
      "---------------------------- \n",
      "Porcentaje total de nulos en el dataset: 1.8708 %\n"
     ]
    }
   ],
   "source": [
    "# verificación de correcta imputación\n",
    "porcentaje_nulos(df_imputado, df.columns)"
   ]
  },
  {
   "attachments": {},
   "cell_type": "markdown",
   "metadata": {},
   "source": [
    "### <span style=\"color:#87CEEB\"> 4.2.- Separación de nulos en el vector objetivo"
   ]
  },
  {
   "cell_type": "code",
   "execution_count": 36,
   "metadata": {},
   "outputs": [
    {
     "data": {
      "text/plain": [
       "(230, 7)"
      ]
     },
     "execution_count": 36,
     "metadata": {},
     "output_type": "execute_result"
    }
   ],
   "source": [
    "# matriz que contiene todas las columnas pero solo considera aquellas en que el vector objetivo contiene datos nulos\n",
    "df_test_nulos = df_imputado[df_imputado['rating'].isna()]\n",
    "df_test_nulos.shape"
   ]
  },
  {
   "attachments": {},
   "cell_type": "markdown",
   "metadata": {},
   "source": [
    "### <span style=\"color:#87CEEB\"> 4.3.- Eliminación de datos nulos"
   ]
  },
  {
   "cell_type": "code",
   "execution_count": 37,
   "metadata": {},
   "outputs": [],
   "source": [
    "df_clean = df_imputado.dropna()"
   ]
  },
  {
   "cell_type": "code",
   "execution_count": 38,
   "metadata": {},
   "outputs": [
    {
     "data": {
      "text/plain": [
       "anime_id      int64\n",
       "name         object\n",
       "genre        object\n",
       "type         object\n",
       "episodes    float64\n",
       "members       int64\n",
       "rating      float64\n",
       "dtype: object"
      ]
     },
     "execution_count": 38,
     "metadata": {},
     "output_type": "execute_result"
    }
   ],
   "source": [
    "df_clean.dtypes"
   ]
  },
  {
   "attachments": {},
   "cell_type": "markdown",
   "metadata": {},
   "source": [
    "## <span style=\"color:#87CEEB\"> **5.- Creación de dataset para modelar**"
   ]
  },
  {
   "attachments": {},
   "cell_type": "markdown",
   "metadata": {},
   "source": [
    "### <span style=\"color:#87CEEB\"> 5.1.- One-Hot Encoding (OHE) para atributos 'genre' y 'type'"
   ]
  },
  {
   "cell_type": "code",
   "execution_count": 39,
   "metadata": {},
   "outputs": [],
   "source": [
    "df_dummies = pd.get_dummies(df_clean[['genre','type']])"
   ]
  },
  {
   "attachments": {},
   "cell_type": "markdown",
   "metadata": {},
   "source": [
    "### <span style=\"color:#87CEEB\"> 5.2.- Dataset"
   ]
  },
  {
   "cell_type": "code",
   "execution_count": 40,
   "metadata": {},
   "outputs": [],
   "source": [
    "df_ep_mem = df_clean.loc[:, ['episodes', 'members']]"
   ]
  },
  {
   "cell_type": "code",
   "execution_count": 41,
   "metadata": {},
   "outputs": [
    {
     "data": {
      "text/html": [
       "<div>\n",
       "<style scoped>\n",
       "    .dataframe tbody tr th:only-of-type {\n",
       "        vertical-align: middle;\n",
       "    }\n",
       "\n",
       "    .dataframe tbody tr th {\n",
       "        vertical-align: top;\n",
       "    }\n",
       "\n",
       "    .dataframe thead th {\n",
       "        text-align: right;\n",
       "    }\n",
       "</style>\n",
       "<table border=\"1\" class=\"dataframe\">\n",
       "  <thead>\n",
       "    <tr style=\"text-align: right;\">\n",
       "      <th></th>\n",
       "      <th>episodes</th>\n",
       "      <th>members</th>\n",
       "      <th>genre_Action</th>\n",
       "      <th>genre_Action, Adventure</th>\n",
       "      <th>genre_Action, Adventure, Cars, Comedy, Sci-Fi, Shounen</th>\n",
       "      <th>genre_Action, Adventure, Cars, Mecha, Sci-Fi, Shounen, Sports</th>\n",
       "      <th>genre_Action, Adventure, Cars, Sci-Fi</th>\n",
       "      <th>genre_Action, Adventure, Comedy</th>\n",
       "      <th>genre_Action, Adventure, Comedy, Demons, Drama, Ecchi, Horror, Mystery, Romance, Sci-Fi</th>\n",
       "      <th>genre_Action, Adventure, Comedy, Demons, Fantasy, Magic</th>\n",
       "      <th>...</th>\n",
       "      <th>genre_Supernatural</th>\n",
       "      <th>genre_Thriller</th>\n",
       "      <th>genre_Vampire</th>\n",
       "      <th>genre_Yaoi</th>\n",
       "      <th>type_Movie</th>\n",
       "      <th>type_Music</th>\n",
       "      <th>type_ONA</th>\n",
       "      <th>type_OVA</th>\n",
       "      <th>type_Special</th>\n",
       "      <th>type_TV</th>\n",
       "    </tr>\n",
       "  </thead>\n",
       "  <tbody>\n",
       "    <tr>\n",
       "      <th>0</th>\n",
       "      <td>1.0</td>\n",
       "      <td>200630</td>\n",
       "      <td>0</td>\n",
       "      <td>0</td>\n",
       "      <td>0</td>\n",
       "      <td>0</td>\n",
       "      <td>0</td>\n",
       "      <td>0</td>\n",
       "      <td>0</td>\n",
       "      <td>0</td>\n",
       "      <td>...</td>\n",
       "      <td>0</td>\n",
       "      <td>0</td>\n",
       "      <td>0</td>\n",
       "      <td>0</td>\n",
       "      <td>1</td>\n",
       "      <td>0</td>\n",
       "      <td>0</td>\n",
       "      <td>0</td>\n",
       "      <td>0</td>\n",
       "      <td>0</td>\n",
       "    </tr>\n",
       "    <tr>\n",
       "      <th>1</th>\n",
       "      <td>64.0</td>\n",
       "      <td>793665</td>\n",
       "      <td>0</td>\n",
       "      <td>0</td>\n",
       "      <td>0</td>\n",
       "      <td>0</td>\n",
       "      <td>0</td>\n",
       "      <td>0</td>\n",
       "      <td>0</td>\n",
       "      <td>0</td>\n",
       "      <td>...</td>\n",
       "      <td>0</td>\n",
       "      <td>0</td>\n",
       "      <td>0</td>\n",
       "      <td>0</td>\n",
       "      <td>0</td>\n",
       "      <td>0</td>\n",
       "      <td>0</td>\n",
       "      <td>0</td>\n",
       "      <td>0</td>\n",
       "      <td>1</td>\n",
       "    </tr>\n",
       "    <tr>\n",
       "      <th>2</th>\n",
       "      <td>51.0</td>\n",
       "      <td>114262</td>\n",
       "      <td>0</td>\n",
       "      <td>0</td>\n",
       "      <td>0</td>\n",
       "      <td>0</td>\n",
       "      <td>0</td>\n",
       "      <td>0</td>\n",
       "      <td>0</td>\n",
       "      <td>0</td>\n",
       "      <td>...</td>\n",
       "      <td>0</td>\n",
       "      <td>0</td>\n",
       "      <td>0</td>\n",
       "      <td>0</td>\n",
       "      <td>0</td>\n",
       "      <td>0</td>\n",
       "      <td>0</td>\n",
       "      <td>0</td>\n",
       "      <td>0</td>\n",
       "      <td>1</td>\n",
       "    </tr>\n",
       "    <tr>\n",
       "      <th>3</th>\n",
       "      <td>24.0</td>\n",
       "      <td>673572</td>\n",
       "      <td>0</td>\n",
       "      <td>0</td>\n",
       "      <td>0</td>\n",
       "      <td>0</td>\n",
       "      <td>0</td>\n",
       "      <td>0</td>\n",
       "      <td>0</td>\n",
       "      <td>0</td>\n",
       "      <td>...</td>\n",
       "      <td>0</td>\n",
       "      <td>0</td>\n",
       "      <td>0</td>\n",
       "      <td>0</td>\n",
       "      <td>0</td>\n",
       "      <td>0</td>\n",
       "      <td>0</td>\n",
       "      <td>0</td>\n",
       "      <td>0</td>\n",
       "      <td>1</td>\n",
       "    </tr>\n",
       "    <tr>\n",
       "      <th>4</th>\n",
       "      <td>51.0</td>\n",
       "      <td>151266</td>\n",
       "      <td>0</td>\n",
       "      <td>0</td>\n",
       "      <td>0</td>\n",
       "      <td>0</td>\n",
       "      <td>0</td>\n",
       "      <td>0</td>\n",
       "      <td>0</td>\n",
       "      <td>0</td>\n",
       "      <td>...</td>\n",
       "      <td>0</td>\n",
       "      <td>0</td>\n",
       "      <td>0</td>\n",
       "      <td>0</td>\n",
       "      <td>0</td>\n",
       "      <td>0</td>\n",
       "      <td>0</td>\n",
       "      <td>0</td>\n",
       "      <td>0</td>\n",
       "      <td>1</td>\n",
       "    </tr>\n",
       "  </tbody>\n",
       "</table>\n",
       "<p>5 rows × 3237 columns</p>\n",
       "</div>"
      ],
      "text/plain": [
       "   episodes  members  genre_Action  genre_Action, Adventure  \\\n",
       "0       1.0   200630             0                        0   \n",
       "1      64.0   793665             0                        0   \n",
       "2      51.0   114262             0                        0   \n",
       "3      24.0   673572             0                        0   \n",
       "4      51.0   151266             0                        0   \n",
       "\n",
       "   genre_Action, Adventure, Cars, Comedy, Sci-Fi, Shounen  \\\n",
       "0                                                  0        \n",
       "1                                                  0        \n",
       "2                                                  0        \n",
       "3                                                  0        \n",
       "4                                                  0        \n",
       "\n",
       "   genre_Action, Adventure, Cars, Mecha, Sci-Fi, Shounen, Sports  \\\n",
       "0                                                  0               \n",
       "1                                                  0               \n",
       "2                                                  0               \n",
       "3                                                  0               \n",
       "4                                                  0               \n",
       "\n",
       "   genre_Action, Adventure, Cars, Sci-Fi  genre_Action, Adventure, Comedy  \\\n",
       "0                                      0                                0   \n",
       "1                                      0                                0   \n",
       "2                                      0                                0   \n",
       "3                                      0                                0   \n",
       "4                                      0                                0   \n",
       "\n",
       "   genre_Action, Adventure, Comedy, Demons, Drama, Ecchi, Horror, Mystery, Romance, Sci-Fi  \\\n",
       "0                                                  0                                         \n",
       "1                                                  0                                         \n",
       "2                                                  0                                         \n",
       "3                                                  0                                         \n",
       "4                                                  0                                         \n",
       "\n",
       "   genre_Action, Adventure, Comedy, Demons, Fantasy, Magic  ...  \\\n",
       "0                                                  0        ...   \n",
       "1                                                  0        ...   \n",
       "2                                                  0        ...   \n",
       "3                                                  0        ...   \n",
       "4                                                  0        ...   \n",
       "\n",
       "   genre_Supernatural  genre_Thriller  genre_Vampire  genre_Yaoi  type_Movie  \\\n",
       "0                   0               0              0           0           1   \n",
       "1                   0               0              0           0           0   \n",
       "2                   0               0              0           0           0   \n",
       "3                   0               0              0           0           0   \n",
       "4                   0               0              0           0           0   \n",
       "\n",
       "   type_Music  type_ONA  type_OVA  type_Special  type_TV  \n",
       "0           0         0         0             0        0  \n",
       "1           0         0         0             0        1  \n",
       "2           0         0         0             0        1  \n",
       "3           0         0         0             0        1  \n",
       "4           0         0         0             0        1  \n",
       "\n",
       "[5 rows x 3237 columns]"
      ]
     },
     "execution_count": 41,
     "metadata": {},
     "output_type": "execute_result"
    }
   ],
   "source": [
    "# dataset para modelar\n",
    "df_modelo = pd.concat([df_ep_mem, df_dummies], axis=1)\n",
    "df_modelo.head()"
   ]
  },
  {
   "cell_type": "code",
   "execution_count": 42,
   "metadata": {},
   "outputs": [
    {
     "name": "stdout",
     "output_type": "stream",
     "text": [
      "<class 'pandas.core.frame.DataFrame'>\n",
      "Int64Index: 12064 entries, 0 to 12293\n",
      "Columns: 3237 entries, episodes to type_TV\n",
      "dtypes: float64(1), int64(1), uint8(3235)\n",
      "memory usage: 37.5 MB\n"
     ]
    }
   ],
   "source": [
    "df_modelo.info()"
   ]
  },
  {
   "attachments": {},
   "cell_type": "markdown",
   "metadata": {},
   "source": [
    "## <span style=\"color:#87CEEB\"> **6.- Modelación**"
   ]
  },
  {
   "attachments": {},
   "cell_type": "markdown",
   "metadata": {},
   "source": [
    "### <span style=\"color:#87CEEB\"> 6.1.- Primera iteración de modelos"
   ]
  },
  {
   "cell_type": "code",
   "execution_count": 43,
   "metadata": {},
   "outputs": [],
   "source": [
    "# vector objetivo\n",
    "y = df_clean['rating']"
   ]
  },
  {
   "cell_type": "code",
   "execution_count": 48,
   "metadata": {},
   "outputs": [],
   "source": [
    "# lista de modelos a implementar\n",
    "models_list = [\n",
    "    ElasticNetCV(),\n",
    "    LinearRegression(),\n",
    "    SVR(),\n",
    "    DecisionTreeRegressor(),\n",
    "    RandomForestRegressor(),  \n",
    "    AdaBoostRegressor(),\n",
    "    GradientBoostingRegressor()\n",
    "]"
   ]
  },
  {
   "cell_type": "code",
   "execution_count": 49,
   "metadata": {},
   "outputs": [
    {
     "name": "stdout",
     "output_type": "stream",
     "text": [
      "ElasticNetCV() \n",
      " MAE: 0.7319897606271878 \n",
      " R2: 0.15009934505407063 \n",
      " --------------------------------------------------\n",
      "LinearRegression() \n",
      " MAE: 0.4592684421505512 \n",
      " R2: 0.5667542337598097 \n",
      " --------------------------------------------------\n",
      "SVR() \n",
      " MAE: 0.6049342881128335 \n",
      " R2: 0.373162852754337 \n",
      " --------------------------------------------------\n",
      "DecisionTreeRegressor() \n",
      " MAE: 0.020719385499557916 \n",
      " R2: 0.980744261877879 \n",
      " --------------------------------------------------\n",
      "RandomForestRegressor() \n",
      " MAE: 0.1962678903496619 \n",
      " R2: 0.9207890758792078 \n",
      " --------------------------------------------------\n",
      "AdaBoostRegressor() \n",
      " MAE: 0.7223560914740672 \n",
      " R2: 0.23969687461194078 \n",
      " --------------------------------------------------\n",
      "GradientBoostingRegressor() \n",
      " MAE: 0.5007250878361157 \n",
      " R2: 0.5706302446576867 \n",
      " --------------------------------------------------\n"
     ]
    }
   ],
   "source": [
    "for model in models_list:\n",
    "    probar_modelos(model, df_modelo, y)"
   ]
  },
  {
   "attachments": {},
   "cell_type": "markdown",
   "metadata": {},
   "source": [
    "### <span style=\"color:#87CEEB\"> 6.2.- Voting Regressor"
   ]
  },
  {
   "cell_type": "code",
   "execution_count": 50,
   "metadata": {},
   "outputs": [],
   "source": [
    "estimadores = [\n",
    "        ('Linear_Regression',LinearRegression()),\n",
    "        ('Decision_Tree_Regressor',DecisionTreeRegressor()),\n",
    "        ('Random_Forest_Regressor',RandomForestRegressor()),\n",
    "        ('Gradient_Boosting_Regressor',GradientBoostingRegressor())\n",
    "        ]"
   ]
  },
  {
   "cell_type": "code",
   "execution_count": 51,
   "metadata": {},
   "outputs": [],
   "source": [
    "voting_model = VotingRegressor(estimators=estimadores,\n",
    "                                verbose=True,\n",
    "                                n_jobs=-1\n",
    "                                )"
   ]
  },
  {
   "cell_type": "code",
   "execution_count": 52,
   "metadata": {},
   "outputs": [
    {
     "name": "stdout",
     "output_type": "stream",
     "text": [
      "VotingRegressor(estimators=[('Linear_Regression', LinearRegression()),\n",
      "                            ('Decision_Tree_Regressor',\n",
      "                             DecisionTreeRegressor()),\n",
      "                            ('Random_Forest_Regressor',\n",
      "                             RandomForestRegressor()),\n",
      "                            ('Gradient_Boosting_Regressor',\n",
      "                             GradientBoostingRegressor())],\n",
      "                n_jobs=-1, verbose=True) \n",
      " MAE: 0.27025434854196473 \n",
      " R2: 0.8612560904359324 \n",
      " --------------------------------------------------\n"
     ]
    }
   ],
   "source": [
    "probar_modelos(voting_model, df_modelo, y)"
   ]
  },
  {
   "attachments": {},
   "cell_type": "markdown",
   "metadata": {},
   "source": [
    "### <span style=\"color:#87CEEB\"> 6.3.- Selección de modelos\n",
    "        * LinearRegression()\n",
    "        * DecisionTreeRegressor()\n",
    "        * RandomForestRegressor()\n",
    "        * GradientBoostingRegressor()\n",
    "        * VotingRegressor()"
   ]
  },
  {
   "attachments": {},
   "cell_type": "markdown",
   "metadata": {},
   "source": [
    "# NOTAS:\n",
    "    Esto dijo el profe:\n",
    "    - mae no mayor a 10\n",
    "    - r2 mayor a 10 \n",
    "    - rmse comparar con otros modelos. "
   ]
  },
  {
   "cell_type": "markdown",
   "metadata": {},
   "source": []
  }
 ],
 "metadata": {
  "kernelspec": {
   "display_name": "base",
   "language": "python",
   "name": "python3"
  },
  "language_info": {
   "codemirror_mode": {
    "name": "ipython",
    "version": 3
   },
   "file_extension": ".py",
   "mimetype": "text/x-python",
   "name": "python",
   "nbconvert_exporter": "python",
   "pygments_lexer": "ipython3",
   "version": "3.11.3"
  },
  "orig_nbformat": 4
 },
 "nbformat": 4,
 "nbformat_minor": 2
}
