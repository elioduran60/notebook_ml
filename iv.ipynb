{
 "cells": [
  {
   "cell_type": "code",
   "execution_count": null,
   "metadata": {},
   "outputs": [],
   "source": []
  },
  {
   "cell_type": "code",
   "execution_count": null,
   "metadata": {},
   "outputs": [],
   "source": []
  },
  {
   "cell_type": "code",
   "execution_count": 3,
   "metadata": {},
   "outputs": [],
   "source": [
    "import pandas as pd\n",
    "import numpy as np\n",
    "\n",
    "def calculate_iv(df, feature, target):\n",
    "    \"\"\"\n",
    "    Calculate the information value (IV) of a feature in a dataset.\n",
    "    \n",
    "    Parameters:\n",
    "    df (pandas.DataFrame): the dataset\n",
    "    feature (str): the name of the feature to calculate IV for\n",
    "    target (str): the name of the target variable\n",
    "    \n",
    "    Returns:\n",
    "    float: the information value (IV) of the feature\n",
    "    \"\"\"\n",
    "    df = df[[feature, target]]\n",
    "    df = df.dropna()\n",
    "    n = df.shape[0]\n",
    "    good = df[target].sum()\n",
    "    bad = n - good\n",
    "    unique_values = df[feature].unique()\n",
    "    iv = 0\n",
    "    for value in unique_values:\n",
    "        n1 = df[df[feature] == value].shape[0]\n",
    "        good1 = df[(df[feature] == value) & (df[target] == 1)].shape[0]\n",
    "        bad1 = n1 - good1\n",
    "        if good1 == 0 or bad1 == 0:\n",
    "            continue\n",
    "        woe = np.log((good1 / good) / (bad1 / bad))\n",
    "        iv += (good1 / good - bad1 / bad) * woe\n",
    "    return iv"
   ]
  },
  {
   "cell_type": "code",
   "execution_count": 10,
   "metadata": {},
   "outputs": [
    {
     "name": "stdout",
     "output_type": "stream",
     "text": [
      "IV of feature1: 0\n",
      "IV of feature2: 0.007340508563202779\n"
     ]
    }
   ],
   "source": [
    "df = pd.DataFrame({\n",
    "    'feature1': ['A', 'B', 'C', 'D', 'E', 'F', 'G', 'H', 'I', 'J'],\n",
    "    'feature2': [10, 20, 10, 40, 50, 6, 7, 80, 10, 11],\n",
    "    'target': [0, 0, 1, 1, 0, 1, 1, 1, 1, 1]\n",
    "})\n",
    "\n",
    "iv1 = calculate_iv(df, 'feature1', 'target')\n",
    "iv2 = calculate_iv(df, 'feature2', 'target')\n",
    "\n",
    "print('IV of feature1:', iv1)\n",
    "print('IV of feature2:', iv2)"
   ]
  }
 ],
 "metadata": {
  "kernelspec": {
   "display_name": "Python 3",
   "language": "python",
   "name": "python3"
  },
  "language_info": {
   "codemirror_mode": {
    "name": "ipython",
    "version": 3
   },
   "file_extension": ".py",
   "mimetype": "text/x-python",
   "name": "python",
   "nbconvert_exporter": "python",
   "pygments_lexer": "ipython3",
   "version": "3.11.3"
  },
  "orig_nbformat": 4
 },
 "nbformat": 4,
 "nbformat_minor": 2
}
